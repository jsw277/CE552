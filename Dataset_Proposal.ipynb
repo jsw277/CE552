{
  "cells": [
    {
      "metadata": {
        "collapsed": true
      },
      "cell_type": "markdown",
      "source": "Dataset Proposal"
    },
    {
      "metadata": {},
      "cell_type": "markdown",
      "source": "# First Dataset: NHTSA CISS Dataset"
    },
    {
      "metadata": {},
      "cell_type": "markdown",
      "source": "## Dataset Link: \n[ftp link](https://www.nhtsa.gov/node/97996/206)\n\nDocumentation is found at: <br>\n[Overview](https://www.nhtsa.gov/crash-data-systems/crash-investigation-sampling-system)\n<br>\n[Analytical User Manual](https://crashstats.nhtsa.dot.gov/Api/Public/ViewPublication/812803)\n<br>\n[Coding Manual](https://crashstats.nhtsa.dot.gov/Api/Public/ViewPublication/812735)\n\n## Description:\nThe Crash Investigation Sampling System (CISS) is a highly detailed dataset collected by specially trained teams within the National Highway Traffic Safety Administration (NHTSA) for use in improving vehicle safety. NHTSA has stated that the purpose of this database is to support scientists and engineers in analyzing motor vehicle crashes and injuries.\n\nThe data are collected using crash reconstruction (on-scene measurements, vehicle measurements, etc.), interviews of the individuals involved in the collision, and medical records. Inclusion criteria are that at least one of the vehicles involved in the collision are towed from the scene. Data are sampled from among 32 strategic areas across the USA, designed to represent the USA as a whole (weighting factors are provided for scaling and generalization of results, where applicable).\n\n![CISS Map](CISS_MAP.png)\n\nThe database has numerous tables at the crash level, vehicle level, person level, and injury level. There are specific keys that are used to link the tables to each other. A simple data model for the CISS database is shown below.\n\n<img src=\"CISS_Data_Mdl.jpg\" width=\"600\">\n\nOnly a subset of the available tables will be used. These will likely include:\n- Crash\n- Event\n- Distract\n- Avoid\n- Seat\n- Airbag\n- Eject\n- EMSCare\n\nThe 2017 dataset includes approximately 2,000 crashes. Future CISS data are anticipated to include approximately 5,000 crashes per year.\n\n## Target Variable:\nMIAS (Maximum Abbreviated Injury Scale for a person).\n\n## Questions:\n- How does distracted driving impact collision severity?\n- Which model performs best for predicting injury severity - ordinal logit (using statsmodels) or random forest?\n- Can random forest be interpreted at an aggregate level for each predictor (e.g., using partial dependence plots or other methods)? If so, how do the results compare with the ordinal logit interpretation?\n\nNote: I have worked with this dataset quite a bit, including applying ordinal logistic regression to predicting injury severity, so the key learning opportunity is in using the random forest. The comparisons are something I am highly interested in."
    },
    {
      "metadata": {},
      "cell_type": "markdown",
      "source": "# Second Dataset: NHTSA CRSS Database"
    },
    {
      "metadata": {
        "trusted": true
      },
      "cell_type": "markdown",
      "source": "## Dataset Link: \n[ftp link](https://www.nhtsa.gov/node/97996/221)\n\nDocumentation is found at: <br>\n[Overview](https://www.nhtsa.gov/crash-data-systems/crash-report-sampling-system)\n<br>\n[Analytical User Manual](https://www.nhtsa.gov/filebrowser/download/176916)\n<br>\n[Coding Manual](https://www.nhtsa.gov/filebrowser/download/176926)\n\n## Description:\nThe Crash Report Sampling System (CRSS) is a national dataset collected by the National Highway Traffic Safety Administration (NHTSA) for use in improving roadway safety. The data are collected using crash reports. Data are sampled from among 60 strategic areas across the USA, designed to represent the USA as a whole (weighting factors are provided for scaling and generalization of results, where applicable). Approximately 50,000 crashes are included in the database each year. Data from 2016-2018 are currently available, as of June 3rd, 2020.\n\n![CRSS Map](CRSS.jpg)\n\nThe database has numerous tables at the crash level, vehicle level, and person level. There are specific keys that are used to link the tables to each other. A simple data model for the CRSS database is shown below.\n\n![CRSS Data_Model](CRSS_Data.jpg)\n\nOnly a subset of the available tables will be used. These will likely include, at a minimum:\n- Accident\n- Damage\n- Distract\n- Drimpair\n- Maneuver\n- Safetyeq\n\n\n## Target Variable:\nSeverity (on the KABCO scale: K=Fatal, A=Severe Injury, B=Injury, C=Possible Injury, O=No Injury)\n\n## Questions:\n- How does distracted driving impact collision severity, based on police-reported distracted driving?\n- Which model performs best for predicting injury severity - ordinal logit (using statsmodels) or random forest?"
    },
    {
      "metadata": {
        "trusted": true
      },
      "cell_type": "markdown",
      "source": "# Third Dataset: Pittsburgh Traffic Count Data"
    },
    {
      "metadata": {
        "trusted": true
      },
      "cell_type": "markdown",
      "source": "## Dataset Link: \n[Data Link](https://data.wprdc.org/datastore/dump/6dfd4f8f-cbf5-4917-a5eb-fd07f4403167)\n[Data Desciption](https://data.wprdc.org/dataset/traffic-count-data-city-of-pittsburgh/resource/6dfd4f8f-cbf5-4917-a5eb-fd07f4403167)\n\n## Description:\nThis traffic-count data is provided by the City of Pittsburgh's Department of Mobility & Infrastructure (DOMI). Counters were deployed as part of traffic studies, including intersection studies, and studies covering where or whether to install speed humps. In some cases, data may have been collected by the Southwestern Pennsylvania Commission (SPC) or BikePGH.\n\nData is currently available for only the most-recent count at each location.\n\n### Derived Variable\nA variable will be derived for if the speed limit is legally posted, based on the most recent observations. This assumes that there are no statutory speed limits. Where there are no statutory speed limits, the legal posted speed limit should be within 5 mph of the 85th percentile speed.\n\n## Target Variable:\nLegal Posted Speed Limit\nPercent of traffic above the speed limit\n\n## Questions:\n- Does the probability of a speed limit being legally posted vary by council, ward ,police zone, or average traffic volume?\n- Doe the percentage of traffic traveling above the speed limit vary by council, ward ,police zone, or average traffic volume?\n- Is there a good way to visualize the data and results?"
    },
    {
      "metadata": {
        "trusted": true
      },
      "cell_type": "code",
      "source": "",
      "execution_count": null,
      "outputs": []
    }
  ],
  "metadata": {
    "kernelspec": {
      "name": "python36",
      "display_name": "Python 3.6",
      "language": "python"
    },
    "language_info": {
      "mimetype": "text/x-python",
      "nbconvert_exporter": "python",
      "name": "python",
      "pygments_lexer": "ipython3",
      "version": "3.6.6",
      "file_extension": ".py",
      "codemirror_mode": {
        "version": 3,
        "name": "ipython"
      }
    },
    "toc": {
      "nav_menu": {},
      "number_sections": true,
      "sideBar": true,
      "skip_h1_title": false,
      "base_numbering": 1,
      "title_cell": "Table of Contents",
      "title_sidebar": "Contents",
      "toc_cell": false,
      "toc_position": {},
      "toc_section_display": true,
      "toc_window_display": false
    }
  },
  "nbformat": 4,
  "nbformat_minor": 2
}