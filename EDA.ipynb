{
  "cells": [
    {
      "metadata": {},
      "cell_type": "markdown",
      "source": "# Proposal"
    },
    {
      "metadata": {},
      "cell_type": "markdown",
      "source": "## Dataset Link: \n[ftp link](https://www.nhtsa.gov/node/97996/206)\n\nDocumentation is found at: <br>\n[Overview](https://www.nhtsa.gov/crash-data-systems/crash-investigation-sampling-system)\n<br>\n[Analytical User Manual](https://crashstats.nhtsa.dot.gov/Api/Public/ViewPublication/812803)\n<br>\n[Coding Manual](https://crashstats.nhtsa.dot.gov/Api/Public/ViewPublication/812735)\n\n## Description:\nThe Crash Investigation Sampling System (CISS) is a highly detailed dataset collected by specially trained teams within the National Highway Traffic Safety Administration (NHTSA) for use in improving vehicle safety. NHTSA has stated that the purpose of this database is to support scientists and engineers in analyzing motor vehicle crashes and injuries.\n\nThe data are collected using crash reconstruction (on-scene measurements, vehicle measurements, etc.), interviews of the individuals involved in the collision, and medical records. Inclusion criteria are that at least one of the vehicles involved in the collision are towed from the scene. Data are sampled from among 32 strategic areas across the USA, designed to represent the USA as a whole (weighting factors are provided for scaling and generalization of results, where applicable).\n\n![CISS Map](CISS_MAP.png)\n\nThe database has numerous tables at the crash level, vehicle level, person level, and injury level. There are specific keys that are used to link the tables to each other. A simple data model for the CISS database is shown below.\n\n<img src=\"CISS_Data_Mdl.jpg\" width=\"600\">\n\n\n## Target Variable:\nMIAS (Maximum Abbreviated Injury Scale for a person).\n\n## Questions:\n- How does distracted driving impact collision severity?\n- Which model performs best for predicting injury severity - ordinal logit (using statsmodels) or random forest?\n- Can random forest be interpreted at an aggregate level for each predictor (e.g., using partial dependence plots or other methods)? If so, how do the results compare with the ordinal logit interpretation?\n\nNote: I have worked with this dataset quite a bit, including applying ordinal logistic regression to predicting injury severity, so the key learning opportunity is in using the random forest. The comparisons are something I am highly interested in."
    },
    {
      "metadata": {},
      "cell_type": "markdown",
      "source": "# Import Data and Initial Views"
    },
    {
      "metadata": {
        "trusted": true
      },
      "cell_type": "code",
      "source": "%matplotlib inline\nimport pandas as pd\nimport numpy as np\nimport matplotlib.pyplot as plt\nimport seaborn as sns",
      "execution_count": 1,
      "outputs": []
    },
    {
      "metadata": {
        "trusted": true
      },
      "cell_type": "code",
      "source": "# Read in the data.\ncrash = pd.read_csv('Data/CRASH.CSV',encoding='cp1252')\nveh = pd.read_csv('Data/GV.CSV',encoding='cp1252')\n#cdc = pd.read_csv('Data/CDC.CSV',encoding='cp1252') #  Collision Deformation Classification\nperson = pd.read_csv('Data/OCC.CSV',encoding='cp1252')\ndistract = pd.read_csv('Data/DISTRACT.CSV',encoding='cp1252')",
      "execution_count": 2,
      "outputs": []
    },
    {
      "metadata": {
        "trusted": true
      },
      "cell_type": "code",
      "source": "crash.head()",
      "execution_count": 3,
      "outputs": [
        {
          "output_type": "execute_result",
          "execution_count": 3,
          "data": {
            "text/html": "<div>\n<style scoped>\n    .dataframe tbody tr th:only-of-type {\n        vertical-align: middle;\n    }\n\n    .dataframe tbody tr th {\n        vertical-align: top;\n    }\n\n    .dataframe thead th {\n        text-align: right;\n    }\n</style>\n<table border=\"1\" class=\"dataframe\">\n  <thead>\n    <tr style=\"text-align: right;\">\n      <th></th>\n      <th>CASEID</th>\n      <th>CRASHYEAR</th>\n      <th>PSU</th>\n      <th>CASENO</th>\n      <th>CASENUMBER</th>\n      <th>CATEGORY</th>\n      <th>CRASHMONTH</th>\n      <th>DAYOFWEEK</th>\n      <th>CRASHTIME</th>\n      <th>CONFIG</th>\n      <th>...</th>\n      <th>CINJURED</th>\n      <th>CINJSEV</th>\n      <th>CTREAT</th>\n      <th>ALCINV</th>\n      <th>DRGINV</th>\n      <th>MANCOLL</th>\n      <th>SUMMARY</th>\n      <th>CASEWGT</th>\n      <th>PSUSTRAT</th>\n      <th>VERSION</th>\n    </tr>\n  </thead>\n  <tbody>\n    <tr>\n      <th>0</th>\n      <td>6150</td>\n      <td>2017.0</td>\n      <td>10</td>\n      <td>1</td>\n      <td>1-10-2017-001-09</td>\n      <td>9.0</td>\n      <td>1.0</td>\n      <td>3.0</td>\n      <td>19:23</td>\n      <td>5.0</td>\n      <td>...</td>\n      <td>1.0</td>\n      <td>0.0</td>\n      <td>3.0</td>\n      <td>9.0</td>\n      <td>1.0</td>\n      <td>0.0</td>\n      <td>V1 was traveling south in lane three on a divi...</td>\n      <td>1076.863485</td>\n      <td>4.0</td>\n      <td>2.0</td>\n    </tr>\n    <tr>\n      <th>1</th>\n      <td>6228</td>\n      <td>2017.0</td>\n      <td>10</td>\n      <td>3</td>\n      <td>1-10-2017-003-09</td>\n      <td>9.0</td>\n      <td>1.0</td>\n      <td>5.0</td>\n      <td>17:57</td>\n      <td>2.0</td>\n      <td>...</td>\n      <td>1.0</td>\n      <td>0.0</td>\n      <td>5.0</td>\n      <td>2.0</td>\n      <td>2.0</td>\n      <td>5.0</td>\n      <td>V1 was traveling northbound in lane five of a ...</td>\n      <td>1098.361402</td>\n      <td>4.0</td>\n      <td>2.0</td>\n    </tr>\n    <tr>\n      <th>2</th>\n      <td>6295</td>\n      <td>2017.0</td>\n      <td>10</td>\n      <td>4</td>\n      <td>1-10-2017-004-04</td>\n      <td>4.0</td>\n      <td>1.0</td>\n      <td>1.0</td>\n      <td>15:26</td>\n      <td>2.0</td>\n      <td>...</td>\n      <td>0.0</td>\n      <td>0.0</td>\n      <td>9.0</td>\n      <td>2.0</td>\n      <td>2.0</td>\n      <td>0.0</td>\n      <td>Unit 1 was westbound when the left side was st...</td>\n      <td>493.639531</td>\n      <td>4.0</td>\n      <td>2.0</td>\n    </tr>\n    <tr>\n      <th>3</th>\n      <td>6344</td>\n      <td>2017.0</td>\n      <td>10</td>\n      <td>5</td>\n      <td>1-10-2017-005-02</td>\n      <td>2.0</td>\n      <td>2.0</td>\n      <td>7.0</td>\n      <td>01:06</td>\n      <td>5.0</td>\n      <td>...</td>\n      <td>1.0</td>\n      <td>0.0</td>\n      <td>8.0</td>\n      <td>1.0</td>\n      <td>2.0</td>\n      <td>0.0</td>\n      <td>V1 was traveling east bound on the roadway neg...</td>\n      <td>53.682104</td>\n      <td>4.0</td>\n      <td>2.0</td>\n    </tr>\n    <tr>\n      <th>4</th>\n      <td>6388</td>\n      <td>2017.0</td>\n      <td>10</td>\n      <td>6</td>\n      <td>1-10-2017-006-03</td>\n      <td>3.0</td>\n      <td>2.0</td>\n      <td>6.0</td>\n      <td>08:11</td>\n      <td>5.0</td>\n      <td>...</td>\n      <td>0.0</td>\n      <td>0.0</td>\n      <td>8.0</td>\n      <td>9.0</td>\n      <td>2.0</td>\n      <td>0.0</td>\n      <td>V1 was traveling south on a three-lane, divide...</td>\n      <td>75.975202</td>\n      <td>4.0</td>\n      <td>2.0</td>\n    </tr>\n  </tbody>\n</table>\n<p>5 rows × 24 columns</p>\n</div>",
            "text/plain": "  CASEID  CRASHYEAR  PSU  CASENO        CASENUMBER  CATEGORY  CRASHMONTH  \\\n0   6150     2017.0   10       1  1-10-2017-001-09       9.0         1.0   \n1   6228     2017.0   10       3  1-10-2017-003-09       9.0         1.0   \n2   6295     2017.0   10       4  1-10-2017-004-04       4.0         1.0   \n3   6344     2017.0   10       5  1-10-2017-005-02       2.0         2.0   \n4   6388     2017.0   10       6  1-10-2017-006-03       3.0         2.0   \n\n   DAYOFWEEK CRASHTIME  CONFIG   ...     CINJURED  CINJSEV  CTREAT  ALCINV  \\\n0        3.0     19:23     5.0   ...          1.0      0.0     3.0     9.0   \n1        5.0     17:57     2.0   ...          1.0      0.0     5.0     2.0   \n2        1.0     15:26     2.0   ...          0.0      0.0     9.0     2.0   \n3        7.0     01:06     5.0   ...          1.0      0.0     8.0     1.0   \n4        6.0     08:11     5.0   ...          0.0      0.0     8.0     9.0   \n\n   DRGINV  MANCOLL                                            SUMMARY  \\\n0     1.0      0.0  V1 was traveling south in lane three on a divi...   \n1     2.0      5.0  V1 was traveling northbound in lane five of a ...   \n2     2.0      0.0  Unit 1 was westbound when the left side was st...   \n3     2.0      0.0  V1 was traveling east bound on the roadway neg...   \n4     2.0      0.0  V1 was traveling south on a three-lane, divide...   \n\n       CASEWGT  PSUSTRAT  VERSION  \n0  1076.863485       4.0      2.0  \n1  1098.361402       4.0      2.0  \n2   493.639531       4.0      2.0  \n3    53.682104       4.0      2.0  \n4    75.975202       4.0      2.0  \n\n[5 rows x 24 columns]"
          },
          "metadata": {}
        }
      ]
    },
    {
      "metadata": {
        "trusted": true
      },
      "cell_type": "code",
      "source": "veh.head()",
      "execution_count": 4,
      "outputs": [
        {
          "output_type": "execute_result",
          "execution_count": 4,
          "data": {
            "text/html": "<div>\n<style scoped>\n    .dataframe tbody tr th:only-of-type {\n        vertical-align: middle;\n    }\n\n    .dataframe tbody tr th {\n        vertical-align: top;\n    }\n\n    .dataframe thead th {\n        text-align: right;\n    }\n</style>\n<table border=\"1\" class=\"dataframe\">\n  <thead>\n    <tr style=\"text-align: right;\">\n      <th></th>\n      <th>CASEID</th>\n      <th>PSU</th>\n      <th>CASENO</th>\n      <th>CASENUMBER</th>\n      <th>CATEGORY</th>\n      <th>VEHNO</th>\n      <th>VIN</th>\n      <th>VINLENGTH</th>\n      <th>MAKE</th>\n      <th>MODEL</th>\n      <th>...</th>\n      <th>DVCONF</th>\n      <th>VAIS</th>\n      <th>VISS</th>\n      <th>VINJURED</th>\n      <th>VTREAT</th>\n      <th>INITOBJCLASS</th>\n      <th>HEADANGLECAT</th>\n      <th>CASEWGT</th>\n      <th>PSUSTRAT</th>\n      <th>VERSION</th>\n    </tr>\n  </thead>\n  <tbody>\n    <tr>\n      <th>0</th>\n      <td>6150</td>\n      <td>10</td>\n      <td>1</td>\n      <td>1-10-2017-001-09</td>\n      <td>9</td>\n      <td>1</td>\n      <td>3G5DA03E44S5</td>\n      <td>17</td>\n      <td>18</td>\n      <td>401</td>\n      <td>...</td>\n      <td>1.0</td>\n      <td>2</td>\n      <td>5.0</td>\n      <td>0</td>\n      <td>3.0</td>\n      <td>0.0</td>\n      <td>998.0</td>\n      <td>1076.863485</td>\n      <td>4</td>\n      <td>2</td>\n    </tr>\n    <tr>\n      <th>1</th>\n      <td>6228</td>\n      <td>10</td>\n      <td>3</td>\n      <td>1-10-2017-003-09</td>\n      <td>9</td>\n      <td>1</td>\n      <td>1HGCM56396A0</td>\n      <td>17</td>\n      <td>37</td>\n      <td>32</td>\n      <td>...</td>\n      <td>0.0</td>\n      <td>1</td>\n      <td>1.0</td>\n      <td>0</td>\n      <td>5.0</td>\n      <td>0.0</td>\n      <td>998.0</td>\n      <td>1098.361402</td>\n      <td>4</td>\n      <td>2</td>\n    </tr>\n    <tr>\n      <th>2</th>\n      <td>6228</td>\n      <td>10</td>\n      <td>3</td>\n      <td>1-10-2017-003-09</td>\n      <td>9</td>\n      <td>2</td>\n      <td>1XP5DB9X9TN4</td>\n      <td>17</td>\n      <td>87</td>\n      <td>881</td>\n      <td>...</td>\n      <td>NaN</td>\n      <td>95</td>\n      <td>95.0</td>\n      <td>95</td>\n      <td>95.0</td>\n      <td>NaN</td>\n      <td>NaN</td>\n      <td>1098.361402</td>\n      <td>4</td>\n      <td>2</td>\n    </tr>\n    <tr>\n      <th>3</th>\n      <td>6295</td>\n      <td>10</td>\n      <td>4</td>\n      <td>1-10-2017-004-04</td>\n      <td>4</td>\n      <td>1</td>\n      <td>1FADP3F26DL2</td>\n      <td>17</td>\n      <td>12</td>\n      <td>37</td>\n      <td>...</td>\n      <td>0.0</td>\n      <td>0</td>\n      <td>0.0</td>\n      <td>0</td>\n      <td>0.0</td>\n      <td>0.0</td>\n      <td>998.0</td>\n      <td>493.639531</td>\n      <td>4</td>\n      <td>2</td>\n    </tr>\n    <tr>\n      <th>4</th>\n      <td>6295</td>\n      <td>10</td>\n      <td>4</td>\n      <td>1-10-2017-004-04</td>\n      <td>4</td>\n      <td>2</td>\n      <td>1GTEC19M9TE5</td>\n      <td>17</td>\n      <td>23</td>\n      <td>481</td>\n      <td>...</td>\n      <td>0.0</td>\n      <td>0</td>\n      <td>0.0</td>\n      <td>0</td>\n      <td>99.0</td>\n      <td>0.0</td>\n      <td>997.0</td>\n      <td>493.639531</td>\n      <td>4</td>\n      <td>2</td>\n    </tr>\n  </tbody>\n</table>\n<p>5 rows × 97 columns</p>\n</div>",
            "text/plain": "   CASEID  PSU  CASENO        CASENUMBER  CATEGORY  VEHNO           VIN  \\\n0    6150   10       1  1-10-2017-001-09         9      1  3G5DA03E44S5   \n1    6228   10       3  1-10-2017-003-09         9      1  1HGCM56396A0   \n2    6228   10       3  1-10-2017-003-09         9      2  1XP5DB9X9TN4   \n3    6295   10       4  1-10-2017-004-04         4      1  1FADP3F26DL2   \n4    6295   10       4  1-10-2017-004-04         4      2  1GTEC19M9TE5   \n\n   VINLENGTH  MAKE  MODEL   ...     DVCONF  VAIS  VISS  VINJURED  VTREAT  \\\n0         17    18    401   ...        1.0     2   5.0         0     3.0   \n1         17    37     32   ...        0.0     1   1.0         0     5.0   \n2         17    87    881   ...        NaN    95  95.0        95    95.0   \n3         17    12     37   ...        0.0     0   0.0         0     0.0   \n4         17    23    481   ...        0.0     0   0.0         0    99.0   \n\n   INITOBJCLASS HEADANGLECAT      CASEWGT  PSUSTRAT  VERSION  \n0           0.0        998.0  1076.863485         4        2  \n1           0.0        998.0  1098.361402         4        2  \n2           NaN          NaN  1098.361402         4        2  \n3           0.0        998.0   493.639531         4        2  \n4           0.0        997.0   493.639531         4        2  \n\n[5 rows x 97 columns]"
          },
          "metadata": {}
        }
      ]
    },
    {
      "metadata": {
        "trusted": true
      },
      "cell_type": "code",
      "source": "person.head()",
      "execution_count": 5,
      "outputs": [
        {
          "output_type": "execute_result",
          "execution_count": 5,
          "data": {
            "text/html": "<div>\n<style scoped>\n    .dataframe tbody tr th:only-of-type {\n        vertical-align: middle;\n    }\n\n    .dataframe tbody tr th {\n        vertical-align: top;\n    }\n\n    .dataframe thead th {\n        text-align: right;\n    }\n</style>\n<table border=\"1\" class=\"dataframe\">\n  <thead>\n    <tr style=\"text-align: right;\">\n      <th></th>\n      <th>CASEID</th>\n      <th>PSU</th>\n      <th>CASENO</th>\n      <th>CASENUMBER</th>\n      <th>CATEGORY</th>\n      <th>VEHNO</th>\n      <th>OCCNO</th>\n      <th>SEATLOC</th>\n      <th>AGE</th>\n      <th>HEIGHT</th>\n      <th>...</th>\n      <th>EMSGCSTIME</th>\n      <th>EMSGCSLOC</th>\n      <th>EMSGCS</th>\n      <th>EMSGCSEYE</th>\n      <th>EMSGCSVERB</th>\n      <th>EMSGCSMOTOR</th>\n      <th>EMSGCSMOD</th>\n      <th>CASEWGT</th>\n      <th>PSUSTRAT</th>\n      <th>VERSION</th>\n    </tr>\n  </thead>\n  <tbody>\n    <tr>\n      <th>0</th>\n      <td>6150</td>\n      <td>10</td>\n      <td>1</td>\n      <td>1-10-2017-001-09</td>\n      <td>9</td>\n      <td>1</td>\n      <td>1</td>\n      <td>11</td>\n      <td>25</td>\n      <td>170</td>\n      <td>...</td>\n      <td>9999</td>\n      <td>NaN</td>\n      <td>NaN</td>\n      <td>NaN</td>\n      <td>NaN</td>\n      <td>NaN</td>\n      <td>NaN</td>\n      <td>1076.863485</td>\n      <td>4</td>\n      <td>2</td>\n    </tr>\n    <tr>\n      <th>1</th>\n      <td>6150</td>\n      <td>10</td>\n      <td>1</td>\n      <td>1-10-2017-001-09</td>\n      <td>9</td>\n      <td>1</td>\n      <td>2</td>\n      <td>13</td>\n      <td>28</td>\n      <td>999</td>\n      <td>...</td>\n      <td>9999</td>\n      <td>NaN</td>\n      <td>NaN</td>\n      <td>NaN</td>\n      <td>NaN</td>\n      <td>NaN</td>\n      <td>NaN</td>\n      <td>1076.863485</td>\n      <td>4</td>\n      <td>2</td>\n    </tr>\n    <tr>\n      <th>2</th>\n      <td>6150</td>\n      <td>10</td>\n      <td>1</td>\n      <td>1-10-2017-001-09</td>\n      <td>9</td>\n      <td>1</td>\n      <td>3</td>\n      <td>21</td>\n      <td>2</td>\n      <td>999</td>\n      <td>...</td>\n      <td>9999</td>\n      <td>NaN</td>\n      <td>NaN</td>\n      <td>NaN</td>\n      <td>NaN</td>\n      <td>NaN</td>\n      <td>NaN</td>\n      <td>1076.863485</td>\n      <td>4</td>\n      <td>2</td>\n    </tr>\n    <tr>\n      <th>3</th>\n      <td>6150</td>\n      <td>10</td>\n      <td>1</td>\n      <td>1-10-2017-001-09</td>\n      <td>9</td>\n      <td>1</td>\n      <td>4</td>\n      <td>31</td>\n      <td>2</td>\n      <td>999</td>\n      <td>...</td>\n      <td>9999</td>\n      <td>NaN</td>\n      <td>NaN</td>\n      <td>NaN</td>\n      <td>NaN</td>\n      <td>NaN</td>\n      <td>NaN</td>\n      <td>1076.863485</td>\n      <td>4</td>\n      <td>2</td>\n    </tr>\n    <tr>\n      <th>4</th>\n      <td>6150</td>\n      <td>10</td>\n      <td>1</td>\n      <td>1-10-2017-001-09</td>\n      <td>9</td>\n      <td>1</td>\n      <td>5</td>\n      <td>32</td>\n      <td>27</td>\n      <td>999</td>\n      <td>...</td>\n      <td>9999</td>\n      <td>NaN</td>\n      <td>NaN</td>\n      <td>NaN</td>\n      <td>NaN</td>\n      <td>NaN</td>\n      <td>NaN</td>\n      <td>1076.863485</td>\n      <td>4</td>\n      <td>2</td>\n    </tr>\n  </tbody>\n</table>\n<p>5 rows × 87 columns</p>\n</div>",
            "text/plain": "   CASEID  PSU  CASENO        CASENUMBER  CATEGORY  VEHNO  OCCNO  SEATLOC  \\\n0    6150   10       1  1-10-2017-001-09         9      1      1       11   \n1    6150   10       1  1-10-2017-001-09         9      1      2       13   \n2    6150   10       1  1-10-2017-001-09         9      1      3       21   \n3    6150   10       1  1-10-2017-001-09         9      1      4       31   \n4    6150   10       1  1-10-2017-001-09         9      1      5       32   \n\n   AGE  HEIGHT   ...     EMSGCSTIME  EMSGCSLOC  EMSGCS  EMSGCSEYE  EMSGCSVERB  \\\n0   25     170   ...           9999        NaN     NaN        NaN         NaN   \n1   28     999   ...           9999        NaN     NaN        NaN         NaN   \n2    2     999   ...           9999        NaN     NaN        NaN         NaN   \n3    2     999   ...           9999        NaN     NaN        NaN         NaN   \n4   27     999   ...           9999        NaN     NaN        NaN         NaN   \n\n   EMSGCSMOTOR  EMSGCSMOD      CASEWGT  PSUSTRAT  VERSION  \n0          NaN        NaN  1076.863485         4        2  \n1          NaN        NaN  1076.863485         4        2  \n2          NaN        NaN  1076.863485         4        2  \n3          NaN        NaN  1076.863485         4        2  \n4          NaN        NaN  1076.863485         4        2  \n\n[5 rows x 87 columns]"
          },
          "metadata": {}
        }
      ]
    },
    {
      "metadata": {
        "trusted": true
      },
      "cell_type": "code",
      "source": "distract.head()",
      "execution_count": 6,
      "outputs": [
        {
          "output_type": "execute_result",
          "execution_count": 6,
          "data": {
            "text/html": "<div>\n<style scoped>\n    .dataframe tbody tr th:only-of-type {\n        vertical-align: middle;\n    }\n\n    .dataframe tbody tr th {\n        vertical-align: top;\n    }\n\n    .dataframe thead th {\n        text-align: right;\n    }\n</style>\n<table border=\"1\" class=\"dataframe\">\n  <thead>\n    <tr style=\"text-align: right;\">\n      <th></th>\n      <th>CASEID</th>\n      <th>PSU</th>\n      <th>CASENO</th>\n      <th>CASENUMBER</th>\n      <th>CATEGORY</th>\n      <th>VEHNO</th>\n      <th>DISTRACTN</th>\n      <th>CASEWGT</th>\n      <th>PSUSTRAT</th>\n      <th>VERSION</th>\n    </tr>\n  </thead>\n  <tbody>\n    <tr>\n      <th>0</th>\n      <td>7202</td>\n      <td>10</td>\n      <td>28</td>\n      <td>1-10-2017-028-03</td>\n      <td>3</td>\n      <td>1</td>\n      <td>1</td>\n      <td>224.661315</td>\n      <td>4</td>\n      <td>2</td>\n    </tr>\n    <tr>\n      <th>1</th>\n      <td>7295</td>\n      <td>10</td>\n      <td>30</td>\n      <td>1-10-2017-030-06</td>\n      <td>6</td>\n      <td>1</td>\n      <td>2</td>\n      <td>310.417771</td>\n      <td>4</td>\n      <td>2</td>\n    </tr>\n    <tr>\n      <th>2</th>\n      <td>7931</td>\n      <td>10</td>\n      <td>40</td>\n      <td>1-10-2017-040-06</td>\n      <td>6</td>\n      <td>1</td>\n      <td>10</td>\n      <td>1655.852752</td>\n      <td>4</td>\n      <td>2</td>\n    </tr>\n    <tr>\n      <th>3</th>\n      <td>8851</td>\n      <td>10</td>\n      <td>66</td>\n      <td>1-10-2017-066-03</td>\n      <td>3</td>\n      <td>1</td>\n      <td>7</td>\n      <td>49.947185</td>\n      <td>4</td>\n      <td>2</td>\n    </tr>\n    <tr>\n      <th>4</th>\n      <td>6424</td>\n      <td>11</td>\n      <td>4</td>\n      <td>1-11-2017-004-03</td>\n      <td>3</td>\n      <td>1</td>\n      <td>10</td>\n      <td>2276.038983</td>\n      <td>8</td>\n      <td>2</td>\n    </tr>\n  </tbody>\n</table>\n</div>",
            "text/plain": "   CASEID  PSU  CASENO        CASENUMBER  CATEGORY  VEHNO  DISTRACTN  \\\n0    7202   10      28  1-10-2017-028-03         3      1          1   \n1    7295   10      30  1-10-2017-030-06         6      1          2   \n2    7931   10      40  1-10-2017-040-06         6      1         10   \n3    8851   10      66  1-10-2017-066-03         3      1          7   \n4    6424   11       4  1-11-2017-004-03         3      1         10   \n\n       CASEWGT  PSUSTRAT  VERSION  \n0   224.661315         4        2  \n1   310.417771         4        2  \n2  1655.852752         4        2  \n3    49.947185         4        2  \n4  2276.038983         8        2  "
          },
          "metadata": {}
        }
      ]
    },
    {
      "metadata": {
        "trusted": true
      },
      "cell_type": "code",
      "source": "crash.shape",
      "execution_count": 7,
      "outputs": [
        {
          "output_type": "execute_result",
          "execution_count": 7,
          "data": {
            "text/plain": "(2038, 24)"
          },
          "metadata": {}
        }
      ]
    },
    {
      "metadata": {
        "trusted": true
      },
      "cell_type": "code",
      "source": "veh.shape",
      "execution_count": 8,
      "outputs": [
        {
          "output_type": "execute_result",
          "execution_count": 8,
          "data": {
            "text/plain": "(3748, 97)"
          },
          "metadata": {}
        }
      ]
    },
    {
      "metadata": {
        "trusted": true
      },
      "cell_type": "code",
      "source": "person.shape",
      "execution_count": 9,
      "outputs": [
        {
          "output_type": "execute_result",
          "execution_count": 9,
          "data": {
            "text/plain": "(4235, 87)"
          },
          "metadata": {}
        }
      ]
    },
    {
      "metadata": {
        "trusted": true
      },
      "cell_type": "code",
      "source": "distract.shape",
      "execution_count": 10,
      "outputs": [
        {
          "output_type": "execute_result",
          "execution_count": 10,
          "data": {
            "text/plain": "(406, 10)"
          },
          "metadata": {}
        }
      ]
    },
    {
      "metadata": {},
      "cell_type": "markdown",
      "source": "## Keeping potential variables of interest"
    },
    {
      "metadata": {
        "trusted": true
      },
      "cell_type": "code",
      "source": "crash.columns",
      "execution_count": 11,
      "outputs": [
        {
          "output_type": "execute_result",
          "execution_count": 11,
          "data": {
            "text/plain": "Index(['CASEID', 'CRASHYEAR', 'PSU', 'CASENO', 'CASENUMBER', 'CATEGORY',\n       'CRASHMONTH', 'DAYOFWEEK', 'CRASHTIME', 'CONFIG', 'EVENTS', 'VEHICLES',\n       'CAIS', 'CISS', 'CINJURED', 'CINJSEV', 'CTREAT', 'ALCINV', 'DRGINV',\n       'MANCOLL', 'SUMMARY', 'CASEWGT', 'PSUSTRAT', 'VERSION'],\n      dtype='object')"
          },
          "metadata": {}
        }
      ]
    },
    {
      "metadata": {
        "trusted": true
      },
      "cell_type": "code",
      "source": "ccols = ['CASEID', 'CASENO', 'CRASHMONTH', 'DAYOFWEEK', 'CRASHTIME', 'MANCOLL', 'CASEWGT']\ncrash_df = crash[ccols]\ncrash_df.head()",
      "execution_count": 12,
      "outputs": [
        {
          "output_type": "execute_result",
          "execution_count": 12,
          "data": {
            "text/html": "<div>\n<style scoped>\n    .dataframe tbody tr th:only-of-type {\n        vertical-align: middle;\n    }\n\n    .dataframe tbody tr th {\n        vertical-align: top;\n    }\n\n    .dataframe thead th {\n        text-align: right;\n    }\n</style>\n<table border=\"1\" class=\"dataframe\">\n  <thead>\n    <tr style=\"text-align: right;\">\n      <th></th>\n      <th>CASEID</th>\n      <th>CASENO</th>\n      <th>CRASHMONTH</th>\n      <th>DAYOFWEEK</th>\n      <th>CRASHTIME</th>\n      <th>MANCOLL</th>\n      <th>CASEWGT</th>\n    </tr>\n  </thead>\n  <tbody>\n    <tr>\n      <th>0</th>\n      <td>6150</td>\n      <td>1</td>\n      <td>1.0</td>\n      <td>3.0</td>\n      <td>19:23</td>\n      <td>0.0</td>\n      <td>1076.863485</td>\n    </tr>\n    <tr>\n      <th>1</th>\n      <td>6228</td>\n      <td>3</td>\n      <td>1.0</td>\n      <td>5.0</td>\n      <td>17:57</td>\n      <td>5.0</td>\n      <td>1098.361402</td>\n    </tr>\n    <tr>\n      <th>2</th>\n      <td>6295</td>\n      <td>4</td>\n      <td>1.0</td>\n      <td>1.0</td>\n      <td>15:26</td>\n      <td>0.0</td>\n      <td>493.639531</td>\n    </tr>\n    <tr>\n      <th>3</th>\n      <td>6344</td>\n      <td>5</td>\n      <td>2.0</td>\n      <td>7.0</td>\n      <td>01:06</td>\n      <td>0.0</td>\n      <td>53.682104</td>\n    </tr>\n    <tr>\n      <th>4</th>\n      <td>6388</td>\n      <td>6</td>\n      <td>2.0</td>\n      <td>6.0</td>\n      <td>08:11</td>\n      <td>0.0</td>\n      <td>75.975202</td>\n    </tr>\n  </tbody>\n</table>\n</div>",
            "text/plain": "  CASEID  CASENO  CRASHMONTH  DAYOFWEEK CRASHTIME  MANCOLL      CASEWGT\n0   6150       1         1.0        3.0     19:23      0.0  1076.863485\n1   6228       3         1.0        5.0     17:57      5.0  1098.361402\n2   6295       4         1.0        1.0     15:26      0.0   493.639531\n3   6344       5         2.0        7.0     01:06      0.0    53.682104\n4   6388       6         2.0        6.0     08:11      0.0    75.975202"
          },
          "metadata": {}
        }
      ]
    },
    {
      "metadata": {
        "trusted": true
      },
      "cell_type": "code",
      "source": "veh.columns",
      "execution_count": 13,
      "outputs": [
        {
          "output_type": "execute_result",
          "execution_count": 13,
          "data": {
            "text/plain": "Index(['CASEID', 'PSU', 'CASENO', 'CASENUMBER', 'CATEGORY', 'VEHNO', 'VIN',\n       'VINLENGTH', 'MAKE', 'MODEL', 'MODELYR', 'BODYTYPE', 'BODYCAT',\n       'VEHCLASS', 'SPECUSE', 'TRANSTAT', 'DAMPLANE', 'DAMSEV', 'CURBWT',\n       'CURBSRC', 'CARGOWT', 'CARGOSRC', 'INSPTYPE', 'TOWSTAT', 'SPEEDLIMIT',\n       'DRPRESENT', 'PARALCOHOL', 'ALCTEST', 'ALCTESTRESULT', 'ALCTESTSRC',\n       'PARDRUG', 'DRUGTEST', 'ZIP', 'RACE', 'ETHNICITY', 'RELTOJUNCT',\n       'TRAFFLOW', 'RDLANES', 'INITLANE', 'SURFTYPE', 'SURFCOND', 'ALIGNMENT',\n       'PROFILE', 'LINERIGHT', 'LINELEFT', 'RUMBINIT', 'RUMBROAD', 'LIGHTCOND',\n       'WEATHER', 'TRAFDEV', 'TRAFFUNCT', 'DISTRACT', 'PREFHE', 'PREMOVE',\n       'CRITCAT', 'CRITEVENT', 'MANEUVER', 'PRESTAB', 'PRELOC', 'CRASHCAT',\n       'CRASHCONF', 'CRASHTYPE', 'ROLLTYPE', 'ROLLTURN', 'ROLLINTRPT',\n       'ROLLPREMAN', 'ROLLINITYP', 'ROLLINLOC', 'ROLLOBJ', 'ROLLTRIP',\n       'ROLLDIR', 'ROLLDIST', 'DVANGTHIS', 'DVANGOTH', 'TOWHITCH', 'TRAJDOC',\n       'TREEPOLE', 'DVEVENT', 'DVBASIS', 'DVTOTAL', 'DVLONG', 'DVLAT',\n       'DVENERGY', 'DVSPEED', 'DVMOMENT', 'DVBES', 'DVEST', 'DVCONF', 'VAIS',\n       'VISS', 'VINJURED', 'VTREAT', 'INITOBJCLASS', 'HEADANGLECAT', 'CASEWGT',\n       'PSUSTRAT', 'VERSION'],\n      dtype='object')"
          },
          "metadata": {}
        }
      ]
    },
    {
      "metadata": {},
      "cell_type": "markdown",
      "source": "When the crash reconstruction is confident in the delta-V (i.e., change in speed during the collision), DVTOTAL is recorded. Otherwise, delta-V is coded in the most likely range of values in the feild DVEST"
    },
    {
      "metadata": {
        "trusted": true
      },
      "cell_type": "code",
      "source": "vcols = ['CASEID', 'VEHNO', 'MODELYR',  'DAMPLANE', 'SPEEDLIMIT','PARALCOHOL','RELTOJUNCT','TRAFFLOW',  'LIGHTCOND','WEATHER', 'DISTRACT', 'DVTOTAL','DVEST']\nveh_df = veh[vcols]\nveh_df.DVTOTAL = veh_df.DVTOTAL.replace(999,np.NaN) # Note: 999 in DVTOTAL indicates missing values\nveh_df.DVEST = veh_df.DVEST.replace(999,np.NaN) # Note: 999 in DVEST indicates missing values\nveh_df.head() ",
      "execution_count": 14,
      "outputs": [
        {
          "output_type": "stream",
          "text": "/home/nbuser/anaconda3_501/lib/python3.6/site-packages/pandas/core/generic.py:4405: SettingWithCopyWarning: \nA value is trying to be set on a copy of a slice from a DataFrame.\nTry using .loc[row_indexer,col_indexer] = value instead\n\nSee the caveats in the documentation: http://pandas.pydata.org/pandas-docs/stable/indexing.html#indexing-view-versus-copy\n  self[name] = value\n",
          "name": "stderr"
        },
        {
          "output_type": "execute_result",
          "execution_count": 14,
          "data": {
            "text/html": "<div>\n<style scoped>\n    .dataframe tbody tr th:only-of-type {\n        vertical-align: middle;\n    }\n\n    .dataframe tbody tr th {\n        vertical-align: top;\n    }\n\n    .dataframe thead th {\n        text-align: right;\n    }\n</style>\n<table border=\"1\" class=\"dataframe\">\n  <thead>\n    <tr style=\"text-align: right;\">\n      <th></th>\n      <th>CASEID</th>\n      <th>VEHNO</th>\n      <th>MODELYR</th>\n      <th>DAMPLANE</th>\n      <th>SPEEDLIMIT</th>\n      <th>PARALCOHOL</th>\n      <th>RELTOJUNCT</th>\n      <th>TRAFFLOW</th>\n      <th>LIGHTCOND</th>\n      <th>WEATHER</th>\n      <th>DISTRACT</th>\n      <th>DVTOTAL</th>\n      <th>DVEST</th>\n    </tr>\n  </thead>\n  <tbody>\n    <tr>\n      <th>0</th>\n      <td>6150</td>\n      <td>1</td>\n      <td>2004</td>\n      <td>F</td>\n      <td>89.0</td>\n      <td>9.0</td>\n      <td>1.0</td>\n      <td>2.0</td>\n      <td>3.0</td>\n      <td>2.0</td>\n      <td>1.0</td>\n      <td>35.0</td>\n      <td>0.0</td>\n    </tr>\n    <tr>\n      <th>1</th>\n      <td>6228</td>\n      <td>1</td>\n      <td>2006</td>\n      <td>L</td>\n      <td>105.0</td>\n      <td>0.0</td>\n      <td>0.0</td>\n      <td>2.0</td>\n      <td>3.0</td>\n      <td>8.0</td>\n      <td>1.0</td>\n      <td>NaN</td>\n      <td>7.0</td>\n    </tr>\n    <tr>\n      <th>2</th>\n      <td>6228</td>\n      <td>2</td>\n      <td>1996</td>\n      <td>L</td>\n      <td>105.0</td>\n      <td>0.0</td>\n      <td>0.0</td>\n      <td>2.0</td>\n      <td>3.0</td>\n      <td>8.0</td>\n      <td>9.0</td>\n      <td>NaN</td>\n      <td>NaN</td>\n    </tr>\n    <tr>\n      <th>3</th>\n      <td>6295</td>\n      <td>1</td>\n      <td>2013</td>\n      <td>L</td>\n      <td>72.0</td>\n      <td>0.0</td>\n      <td>2.0</td>\n      <td>2.0</td>\n      <td>1.0</td>\n      <td>4.0</td>\n      <td>1.0</td>\n      <td>NaN</td>\n      <td>6.0</td>\n    </tr>\n    <tr>\n      <th>4</th>\n      <td>6295</td>\n      <td>2</td>\n      <td>1996</td>\n      <td>N</td>\n      <td>72.0</td>\n      <td>0.0</td>\n      <td>2.0</td>\n      <td>4.0</td>\n      <td>1.0</td>\n      <td>4.0</td>\n      <td>9.0</td>\n      <td>NaN</td>\n      <td>9.0</td>\n    </tr>\n  </tbody>\n</table>\n</div>",
            "text/plain": "   CASEID  VEHNO  MODELYR DAMPLANE  SPEEDLIMIT  PARALCOHOL  RELTOJUNCT  \\\n0    6150      1     2004        F        89.0         9.0         1.0   \n1    6228      1     2006        L       105.0         0.0         0.0   \n2    6228      2     1996        L       105.0         0.0         0.0   \n3    6295      1     2013        L        72.0         0.0         2.0   \n4    6295      2     1996        N        72.0         0.0         2.0   \n\n   TRAFFLOW  LIGHTCOND  WEATHER  DISTRACT  DVTOTAL  DVEST  \n0       2.0        3.0      2.0       1.0     35.0    0.0  \n1       2.0        3.0      8.0       1.0      NaN    7.0  \n2       2.0        3.0      8.0       9.0      NaN    NaN  \n3       2.0        1.0      4.0       1.0      NaN    6.0  \n4       4.0        1.0      4.0       9.0      NaN    9.0  "
          },
          "metadata": {}
        }
      ]
    },
    {
      "metadata": {
        "trusted": true
      },
      "cell_type": "code",
      "source": "# Create a new delta-V variable combining DVTOTAL and DVEST - Change in speed is likely a good predictor of injury severity\nDV = []\n\nfor i in range(len(veh_df)):\n    if (veh_df.DVTOTAL[i]<10) & (veh_df.DVTOTAL[i]>0):\n        DV.append(1)\n    elif (veh_df.DVTOTAL[i]>=10) & (veh_df.DVTOTAL[i]<25):\n        DV.append(2)\n    elif (veh_df.DVTOTAL[i]>=25) & (veh_df.DVTOTAL[i]<40):\n        DV.append(3)\n    elif (veh_df.DVTOTAL[i]>=40) & (veh_df.DVTOTAL[i]<55):\n        DV.append(3)\n    elif veh_df.DVTOTAL[i]>=55:\n        DV.append(3)\n    else:\n        DV.append(veh_df.DVEST[i])\n\nveh_df['DV'] = DV",
      "execution_count": 15,
      "outputs": [
        {
          "output_type": "stream",
          "text": "/home/nbuser/anaconda3_501/lib/python3.6/site-packages/ipykernel/__main__.py:18: SettingWithCopyWarning: \nA value is trying to be set on a copy of a slice from a DataFrame.\nTry using .loc[row_indexer,col_indexer] = value instead\n\nSee the caveats in the documentation: http://pandas.pydata.org/pandas-docs/stable/indexing.html#indexing-view-versus-copy\n",
          "name": "stderr"
        }
      ]
    },
    {
      "metadata": {
        "trusted": true
      },
      "cell_type": "code",
      "source": "veh_df['DV'].value_counts()",
      "execution_count": 16,
      "outputs": [
        {
          "output_type": "execute_result",
          "execution_count": 16,
          "data": {
            "text/plain": "2.0    1482\n3.0     613\n9.0     563\n1.0     284\n7.0     195\n6.0     164\n0.0      91\n8.0      60\n4.0      20\n5.0      14\nName: DV, dtype: int64"
          },
          "metadata": {}
        }
      ]
    },
    {
      "metadata": {
        "trusted": true
      },
      "cell_type": "code",
      "source": "veh_df.isnull().sum()",
      "execution_count": 17,
      "outputs": [
        {
          "output_type": "execute_result",
          "execution_count": 17,
          "data": {
            "text/plain": "CASEID           0\nVEHNO            0\nMODELYR          0\nDAMPLANE         0\nSPEEDLIMIT     120\nPARALCOHOL     120\nRELTOJUNCT     120\nTRAFFLOW       120\nLIGHTCOND      120\nWEATHER        120\nDISTRACT       120\nDVTOTAL       1664\nDVEST          262\nDV             262\ndtype: int64"
          },
          "metadata": {}
        }
      ]
    },
    {
      "metadata": {
        "trusted": true
      },
      "cell_type": "code",
      "source": "person.columns",
      "execution_count": 18,
      "outputs": [
        {
          "output_type": "execute_result",
          "execution_count": 18,
          "data": {
            "text/plain": "Index(['CASEID', 'PSU', 'CASENO', 'CASENUMBER', 'CATEGORY', 'VEHNO', 'OCCNO',\n       'SEATLOC', 'AGE', 'HEIGHT', 'WEIGHT', 'SEX', 'FETALMORT', 'ROLE',\n       'RACE', 'ETHNICITY', 'EYEWEAR', 'PARBELTUSE', 'PARAIRBAG', 'PARINJSEV',\n       'ENTRAP', 'MOBILITY', 'POSTURE', 'BELTAVAIL', 'BELTUSE', 'BELTLAPPOS',\n       'BELTSHLPOS', 'BELTMALF', 'BELTANCHOR', 'BELTUSESRC', 'BELTPOSDEVPRES',\n       'BELTPOSDEVUSE', 'BELTGUIDE', 'CHILDSEATUSE', 'MORTALITY', 'TREATMENT',\n       'MEDFACILITY', 'HOSPSTAY', 'WORKDAYS', 'INJSTATUS', 'DEATH', 'INJNUM',\n       'EMSDATA', 'IMPAIREDCOAG', 'PREGNANT', 'IMPLANTFUS', 'CARDIOCOND',\n       'OSTEOCOND', 'SPINEDEGEN', 'OBESITY', 'COMORBOTH', 'CAUSE1', 'CAUSE2',\n       'CAUSE3', 'MAIS', 'ISS', 'BMI', 'HOSPVITALTIME', 'HOSPPULSE',\n       'HOSPSYSTOLIC', 'HOSPDIASTOLIC', 'HOSPRESPRATE', 'HOSPVITALSRC',\n       'GCSOBTAINED', 'HOSPGCSTIME', 'HOSPGCSLOC', 'HOSPGCS', 'HOSPGCSEYE',\n       'HOSPGCSVERB', 'HOSPGCSMOTOR', 'HOSPGCSMOD', 'EMSVITALTIME', 'EMSPULSE',\n       'EMSSYSTOLIC', 'EMSDIASTOLIC', 'EMSRESPRATE', 'EMSVITALSRC',\n       'EMSGCSTIME', 'EMSGCSLOC', 'EMSGCS', 'EMSGCSEYE', 'EMSGCSVERB',\n       'EMSGCSMOTOR', 'EMSGCSMOD', 'CASEWGT', 'PSUSTRAT', 'VERSION'],\n      dtype='object')"
          },
          "metadata": {}
        }
      ]
    },
    {
      "metadata": {
        "trusted": true
      },
      "cell_type": "code",
      "source": "pcols = ['CASEID', 'VEHNO', 'OCCNO', 'MAIS', 'SEATLOC', 'AGE', 'HEIGHT', 'WEIGHT', 'SEX', 'PARBELTUSE', 'PARAIRBAG', 'PARINJSEV',\n       'BELTUSE','CHILDSEATUSE', 'TREATMENT','MEDFACILITY', 'HOSPSTAY', 'EMSDATA',  'BMI']\nperson_df = person[pcols]\nperson_df.head()",
      "execution_count": 19,
      "outputs": [
        {
          "output_type": "execute_result",
          "execution_count": 19,
          "data": {
            "text/html": "<div>\n<style scoped>\n    .dataframe tbody tr th:only-of-type {\n        vertical-align: middle;\n    }\n\n    .dataframe tbody tr th {\n        vertical-align: top;\n    }\n\n    .dataframe thead th {\n        text-align: right;\n    }\n</style>\n<table border=\"1\" class=\"dataframe\">\n  <thead>\n    <tr style=\"text-align: right;\">\n      <th></th>\n      <th>CASEID</th>\n      <th>VEHNO</th>\n      <th>OCCNO</th>\n      <th>MAIS</th>\n      <th>SEATLOC</th>\n      <th>AGE</th>\n      <th>HEIGHT</th>\n      <th>WEIGHT</th>\n      <th>SEX</th>\n      <th>PARBELTUSE</th>\n      <th>PARAIRBAG</th>\n      <th>PARINJSEV</th>\n      <th>BELTUSE</th>\n      <th>CHILDSEATUSE</th>\n      <th>TREATMENT</th>\n      <th>MEDFACILITY</th>\n      <th>HOSPSTAY</th>\n      <th>EMSDATA</th>\n      <th>BMI</th>\n    </tr>\n  </thead>\n  <tbody>\n    <tr>\n      <th>0</th>\n      <td>6150</td>\n      <td>1</td>\n      <td>1</td>\n      <td>2</td>\n      <td>11</td>\n      <td>25</td>\n      <td>170</td>\n      <td>73</td>\n      <td>2</td>\n      <td>3</td>\n      <td>2</td>\n      <td>2</td>\n      <td>0</td>\n      <td>0</td>\n      <td>3</td>\n      <td>2</td>\n      <td>3</td>\n      <td>0</td>\n      <td>25</td>\n    </tr>\n    <tr>\n      <th>1</th>\n      <td>6150</td>\n      <td>1</td>\n      <td>2</td>\n      <td>0</td>\n      <td>13</td>\n      <td>28</td>\n      <td>999</td>\n      <td>999</td>\n      <td>1</td>\n      <td>3</td>\n      <td>2</td>\n      <td>0</td>\n      <td>0</td>\n      <td>0</td>\n      <td>0</td>\n      <td>0</td>\n      <td>0</td>\n      <td>0</td>\n      <td>100</td>\n    </tr>\n    <tr>\n      <th>2</th>\n      <td>6150</td>\n      <td>1</td>\n      <td>3</td>\n      <td>0</td>\n      <td>21</td>\n      <td>2</td>\n      <td>999</td>\n      <td>999</td>\n      <td>2</td>\n      <td>5</td>\n      <td>2</td>\n      <td>0</td>\n      <td>99</td>\n      <td>1</td>\n      <td>0</td>\n      <td>0</td>\n      <td>0</td>\n      <td>0</td>\n      <td>100</td>\n    </tr>\n    <tr>\n      <th>3</th>\n      <td>6150</td>\n      <td>1</td>\n      <td>4</td>\n      <td>0</td>\n      <td>31</td>\n      <td>2</td>\n      <td>999</td>\n      <td>999</td>\n      <td>1</td>\n      <td>5</td>\n      <td>2</td>\n      <td>0</td>\n      <td>99</td>\n      <td>1</td>\n      <td>0</td>\n      <td>0</td>\n      <td>0</td>\n      <td>0</td>\n      <td>100</td>\n    </tr>\n    <tr>\n      <th>4</th>\n      <td>6150</td>\n      <td>1</td>\n      <td>5</td>\n      <td>0</td>\n      <td>32</td>\n      <td>27</td>\n      <td>999</td>\n      <td>999</td>\n      <td>2</td>\n      <td>2</td>\n      <td>0</td>\n      <td>0</td>\n      <td>99</td>\n      <td>0</td>\n      <td>0</td>\n      <td>0</td>\n      <td>0</td>\n      <td>0</td>\n      <td>100</td>\n    </tr>\n  </tbody>\n</table>\n</div>",
            "text/plain": "   CASEID  VEHNO  OCCNO  MAIS  SEATLOC  AGE  HEIGHT  WEIGHT  SEX  PARBELTUSE  \\\n0    6150      1      1     2       11   25     170      73    2           3   \n1    6150      1      2     0       13   28     999     999    1           3   \n2    6150      1      3     0       21    2     999     999    2           5   \n3    6150      1      4     0       31    2     999     999    1           5   \n4    6150      1      5     0       32   27     999     999    2           2   \n\n   PARAIRBAG  PARINJSEV  BELTUSE  CHILDSEATUSE  TREATMENT  MEDFACILITY  \\\n0          2          2        0             0          3            2   \n1          2          0        0             0          0            0   \n2          2          0       99             1          0            0   \n3          2          0       99             1          0            0   \n4          0          0       99             0          0            0   \n\n   HOSPSTAY  EMSDATA  BMI  \n0         3        0   25  \n1         0        0  100  \n2         0        0  100  \n3         0        0  100  \n4         0        0  100  "
          },
          "metadata": {}
        }
      ]
    },
    {
      "metadata": {
        "trusted": true
      },
      "cell_type": "code",
      "source": "distract.columns",
      "execution_count": 20,
      "outputs": [
        {
          "output_type": "execute_result",
          "execution_count": 20,
          "data": {
            "text/plain": "Index(['CASEID', 'PSU', 'CASENO', 'CASENUMBER', 'CATEGORY', 'VEHNO',\n       'DISTRACTN', 'CASEWGT', 'PSUSTRAT', 'VERSION'],\n      dtype='object')"
          },
          "metadata": {}
        }
      ]
    },
    {
      "metadata": {
        "trusted": true
      },
      "cell_type": "code",
      "source": "dcols = ['CASEID',  'VEHNO','DISTRACTN']\ndistract_df = distract[dcols]\ndistract_df.head()",
      "execution_count": 21,
      "outputs": [
        {
          "output_type": "execute_result",
          "execution_count": 21,
          "data": {
            "text/html": "<div>\n<style scoped>\n    .dataframe tbody tr th:only-of-type {\n        vertical-align: middle;\n    }\n\n    .dataframe tbody tr th {\n        vertical-align: top;\n    }\n\n    .dataframe thead th {\n        text-align: right;\n    }\n</style>\n<table border=\"1\" class=\"dataframe\">\n  <thead>\n    <tr style=\"text-align: right;\">\n      <th></th>\n      <th>CASEID</th>\n      <th>VEHNO</th>\n      <th>DISTRACTN</th>\n    </tr>\n  </thead>\n  <tbody>\n    <tr>\n      <th>0</th>\n      <td>7202</td>\n      <td>1</td>\n      <td>1</td>\n    </tr>\n    <tr>\n      <th>1</th>\n      <td>7295</td>\n      <td>1</td>\n      <td>2</td>\n    </tr>\n    <tr>\n      <th>2</th>\n      <td>7931</td>\n      <td>1</td>\n      <td>10</td>\n    </tr>\n    <tr>\n      <th>3</th>\n      <td>8851</td>\n      <td>1</td>\n      <td>7</td>\n    </tr>\n    <tr>\n      <th>4</th>\n      <td>6424</td>\n      <td>1</td>\n      <td>10</td>\n    </tr>\n  </tbody>\n</table>\n</div>",
            "text/plain": "   CASEID  VEHNO  DISTRACTN\n0    7202      1          1\n1    7295      1          2\n2    7931      1         10\n3    8851      1          7\n4    6424      1         10"
          },
          "metadata": {}
        }
      ]
    },
    {
      "metadata": {
        "trusted": true
      },
      "cell_type": "code",
      "source": "person['AGE'].value_counts()",
      "execution_count": 22,
      "outputs": [
        {
          "output_type": "execute_result",
          "execution_count": 22,
          "data": {
            "text/plain": "23     128\n17     121\n19     118\n25     114\n26     109\n21     108\n18     108\n22     107\n20     107\n24     101\n27      93\n28      93\n16      86\n29      85\n30      85\n33      83\n32      80\n31      76\n36      70\n54      60\n37      60\n47      59\n34      57\n44      56\n999     56\n55      56\n50      54\n38      54\n15      52\n43      52\n      ... \n11      24\n68      23\n12      22\n73      22\n78      22\n75      20\n76      19\n0       19\n5       19\n9       19\n71      18\n77      17\n82      15\n74      14\n80      12\n79      12\n85      11\n86      10\n84       9\n81       8\n83       7\n88       5\n93       3\n90       2\n94       2\n87       1\n91       1\n89       1\n92       1\n97       1\nName: AGE, Length: 97, dtype: int64"
          },
          "metadata": {}
        }
      ]
    },
    {
      "metadata": {
        "trusted": true
      },
      "cell_type": "code",
      "source": "person[person['AGE']<150]['AGE'].hist(bins=30) # note - 999 indicates age is unknown/not reported. There are 56 of these values (i.e., 56 missing values for age)",
      "execution_count": 23,
      "outputs": [
        {
          "output_type": "execute_result",
          "execution_count": 23,
          "data": {
            "text/plain": "<matplotlib.axes._subplots.AxesSubplot at 0x7f4a072dfac8>"
          },
          "metadata": {}
        },
        {
          "output_type": "display_data",
          "data": {
            "image/png": "[encoded data removed]",
            "text/plain": "<Figure size 432x288 with 1 Axes>"
          },
          "metadata": {
            "needs_background": "light"
          }
        }
      ]
    },
    {
      "metadata": {
        "trusted": true
      },
      "cell_type": "code",
      "source": "person.isnull().sum()",
      "execution_count": 24,
      "outputs": [
        {
          "output_type": "execute_result",
          "execution_count": 24,
          "data": {
            "text/plain": "CASEID              0\nPSU                 0\nCASENO              0\nCASENUMBER          0\nCATEGORY            0\nVEHNO               0\nOCCNO               0\nSEATLOC             0\nAGE                 0\nHEIGHT              0\nWEIGHT              0\nSEX                 0\nFETALMORT           0\nROLE                0\nRACE                0\nETHNICITY           0\nEYEWEAR             0\nPARBELTUSE          0\nPARAIRBAG           0\nPARINJSEV           0\nENTRAP              0\nMOBILITY            0\nPOSTURE             0\nBELTAVAIL           0\nBELTUSE             0\nBELTLAPPOS          0\nBELTSHLPOS          0\nBELTMALF            0\nBELTANCHOR          0\nBELTUSESRC          0\n                 ... \nHOSPVITALTIME    3087\nHOSPPULSE        3089\nHOSPSYSTOLIC     3089\nHOSPDIASTOLIC    3089\nHOSPRESPRATE     3089\nHOSPVITALSRC     3089\nGCSOBTAINED         0\nHOSPGCSTIME         0\nHOSPGCSLOC       3089\nHOSPGCS          3089\nHOSPGCSEYE       3089\nHOSPGCSVERB      3089\nHOSPGCSMOTOR     3089\nHOSPGCSMOD       3089\nEMSVITALTIME     3707\nEMSPULSE         3710\nEMSSYSTOLIC      3710\nEMSDIASTOLIC     3710\nEMSRESPRATE      3710\nEMSVITALSRC      3710\nEMSGCSTIME          0\nEMSGCSLOC        3710\nEMSGCS           3710\nEMSGCSEYE        3710\nEMSGCSVERB       3710\nEMSGCSMOTOR      3710\nEMSGCSMOD        3710\nCASEWGT             0\nPSUSTRAT            0\nVERSION             0\nLength: 87, dtype: int64"
          },
          "metadata": {}
        }
      ]
    },
    {
      "metadata": {},
      "cell_type": "markdown",
      "source": "## Some useful dictionaries"
    },
    {
      "metadata": {
        "trusted": true
      },
      "cell_type": "code",
      "source": "seating_dict = {11:'Front Left', 12:'Front Middle', 13:'Front Right', 21:'Second Left', 22:'Second Middle', 23:'Second Right', 31:'Third Left', \n                32:'Third Middle', 33:'Third Right', 99:'Unknown'} # person_df['SEATLOC']\n\ngender_dict = {1:'Male', 2:'Female', 3:'Female-Pregnant 1st Trimester', 4:'Female-Pregnant 2nd Trimester', \n               5:'Female-Pregnant 3rd Trimester', 6:'Female-Trimester Unknown', 9:'Unknown'} # person_df['SEX']\n\ndistract_dict = {1:'Sleepy', 2:'Inattentive', 3:'Texting/Typing/Dialing', 4:'Talking-Hands Free', 5:'Talking-Hand Held', 6:'Other Device', 7:'Device Integral to Vehicle', \n                 8:'Passenger', 9:'Other Inside', 10:'Outside Vehicle', 11:'Unknown Distraction', 99:'Not Reported'} # SPecific Distraction Type: distract_df['DISTRACTN']\n\nmancoll_dict = {0:'SingleVehicle',  1:'Rearend',  2:'Headon',  4:'Angle',  5:'Sideswipe - Same Direction',  6:'Sideswipe - Opposite Direction',  9:'Unknown'} # Collision Type: crash_df['MANCOLL']\n\ndamage_plane_dict = {'0':'Not Motor Vehicle', '9':'Unkown', 'B':'Back/Truck Back', 'D':'Back/Rear of Tractor', 'F':'Front', 'L':'Left', \n                     'N':'Noncollision', 'R':'Right', 'T':'Top', 'U':'Undercarriage', 'V':'Front of Cargo Area'} # Damage plane on vehicle: veh_df['DAMPLANE']\n\npara_alc_dict = {0:'None Present',  1:'Alcohol Present',  7:'No Driver',  8:'Not Reported',  9:'Unknown'} # Alcohol Present: veh_df['PARALCOHOL']\n\nrel_junction_dict = {0:'No Junction', 1:'Interchange', 2:'Intersection', 3:'Driveway/Alley', 4:'Other Junction', 5:\"Unknown Type\", 9:'Unknown'} # relation to junction: veh_df['RELTOJUNCT']\n\ntraffic_flow_dict = {1:'Divided-Median',  2:'Divided-Median Positive Barrier',  3:'One-Way',  4:'Not Divided',  5:'Two-Way Left Turn Lane', 9:'Unknown'} # traffic flow: veh_df['TRAFFLOW']\n\nlighting_dict = {1:'Daylight',  2:'Dark',  3:'Dark but Lighted',  4:'Dawn',  5:'Dusk',  9:'Unknown'} # Light Conditions: veh_df['LIGHTCOND']\n\nweather_dict = {1:'Clear',  2:'Rain',  3:'Sleet or Hail',  4:'Snow',  5:'Fog, Smoke, Smog',  6:'Severe Crosswinds',  7:'Blowing Sand, Dirt, Soil', \n                8:'Cloudy',  9:'Blowing Snow', 10:'Freezing Rain/Drizzle', 98:'Other', 99:'Unknown'} # Weather Conditions: veh_df['WEATHER']\n\nbasic_distract_dict = {0:'No Driver',  1:'Attentive/Not Distracted',  2:'Looked but did not see',  3:'Inattentive/Distracted',  9:'Unknown'} #Basic distractions: veh_df['DISTRACT']\n\nairbag_dict = {0:'None Available', 1:'Deployed', 2:'Not Deployed', 3:'Unknown if Deployed', 7:'Not Reported', 9:'Unknown'} # person_df['PARAIRBAG']\n\nseatbelt_dict = {0:'Not Used', 1:'Shoulder Belt', 2:'Lap Belt', 3:'Shoulder + Lap Belt', 4:'Belt Used, Unknown Type', 5:'Child Seat', \n                 7:'Other Belt Type', 8:'Unknown', 9:'Not Reported'} # person_df['PARBELTUSE']\n\nDV_dict = {0:'Under 10 kph',  1:'Under 10 kph',  2:'10-25 kph',  3:'25-40 kph',  4:'40-55 kph',  5:'Over 55 kph',  6:'Minor Damage',  7:'Moderate Damage',  \n           8:'Severe Damage',  9:'Unknown', 99:'Unknown'} # Delta-V Categories: veh_df['DV']",
      "execution_count": 25,
      "outputs": []
    },
    {
      "metadata": {
        "trusted": true
      },
      "cell_type": "code",
      "source": "person_df['SEATLOC'].map(seating_dict).value_counts()",
      "execution_count": 26,
      "outputs": [
        {
          "output_type": "execute_result",
          "execution_count": 26,
          "data": {
            "text/plain": "Front Left       2896\nFront Right       716\nSecond Right      285\nSecond Left       216\nSecond Middle      72\nThird Right        14\nThird Left         14\nUnknown            13\nThird Middle        5\nFront Middle        4\nName: SEATLOC, dtype: int64"
          },
          "metadata": {}
        }
      ]
    },
    {
      "metadata": {
        "trusted": true
      },
      "cell_type": "code",
      "source": "person_df['SEX'].map(gender_dict).value_counts()",
      "execution_count": 27,
      "outputs": [
        {
          "output_type": "execute_result",
          "execution_count": 27,
          "data": {
            "text/plain": "Male                             2100\nFemale                           2055\nUnknown                            39\nFemale-Pregnant 1st Trimester      16\nFemale-Pregnant 2nd Trimester      13\nFemale-Pregnant 3rd Trimester      10\nFemale-Trimester Unknown            2\nName: SEX, dtype: int64"
          },
          "metadata": {}
        }
      ]
    },
    {
      "metadata": {
        "trusted": true
      },
      "cell_type": "code",
      "source": "distract_df['DISTRACTN'].map(distract_dict).value_counts()",
      "execution_count": 28,
      "outputs": [
        {
          "output_type": "execute_result",
          "execution_count": 28,
          "data": {
            "text/plain": "Sleepy                        103\nOutside Vehicle                77\nOther Inside                   67\nNot Reported                   46\nInattentive                    27\nTexting/Typing/Dialing         27\nPassenger                      22\nDevice Integral to Vehicle     18\nTalking-Hand Held               9\nOther Device                    9\nTalking-Hands Free              1\nName: DISTRACTN, dtype: int64"
          },
          "metadata": {}
        }
      ]
    },
    {
      "metadata": {},
      "cell_type": "markdown",
      "source": "Note: Due to the few observations several types of distractions, it is unlikely that many distraction types will be useful in modeling"
    },
    {
      "metadata": {
        "trusted": true
      },
      "cell_type": "code",
      "source": "crash_df['MANCOLL'].map(mancoll_dict).value_counts()",
      "execution_count": 29,
      "outputs": [
        {
          "output_type": "execute_result",
          "execution_count": 29,
          "data": {
            "text/plain": "Angle                             726\nSingleVehicle                     697\nRearend                           403\nSideswipe - Same Direction         69\nHeadon                             54\nSideswipe - Opposite Direction     46\nUnknown                            40\nName: MANCOLL, dtype: int64"
          },
          "metadata": {}
        }
      ]
    },
    {
      "metadata": {
        "trusted": true
      },
      "cell_type": "code",
      "source": "veh_df['DAMPLANE'].map(damage_plane_dict).value_counts()",
      "execution_count": 30,
      "outputs": [
        {
          "output_type": "execute_result",
          "execution_count": 30,
          "data": {
            "text/plain": "Front                   1996\nLeft                     569\nBack/Truck Back          560\nRight                    447\nTop                      113\nUnkown                    43\nUndercarriage             12\nNoncollision               5\nBack/Rear of Tractor       2\nNot Motor Vehicle          1\nName: DAMPLANE, dtype: int64"
          },
          "metadata": {}
        }
      ]
    },
    {
      "metadata": {
        "trusted": true
      },
      "cell_type": "code",
      "source": "veh_df['PARALCOHOL'].map(para_alc_dict).value_counts()",
      "execution_count": 31,
      "outputs": [
        {
          "output_type": "execute_result",
          "execution_count": 31,
          "data": {
            "text/plain": "None Present       3208\nAlcohol Present     174\nUnknown             143\nNot Reported         97\nNo Driver             6\nName: PARALCOHOL, dtype: int64"
          },
          "metadata": {}
        }
      ]
    },
    {
      "metadata": {
        "trusted": true
      },
      "cell_type": "code",
      "source": "veh_df['RELTOJUNCT'].map(rel_junction_dict).value_counts()",
      "execution_count": 32,
      "outputs": [
        {
          "output_type": "execute_result",
          "execution_count": 32,
          "data": {
            "text/plain": "Intersection      1851\nNo Junction       1384\nDriveway/Alley     216\nInterchange        170\nOther Junction       7\nName: RELTOJUNCT, dtype: int64"
          },
          "metadata": {}
        }
      ]
    },
    {
      "metadata": {
        "trusted": true
      },
      "cell_type": "code",
      "source": "veh_df['TRAFFLOW'].map(traffic_flow_dict).value_counts()",
      "execution_count": 33,
      "outputs": [
        {
          "output_type": "execute_result",
          "execution_count": 33,
          "data": {
            "text/plain": "Not Divided                        1983\nDivided-Median                      719\nDivided-Median Positive Barrier     446\nOne-Way                             264\nTwo-Way Left Turn Lane              216\nName: TRAFFLOW, dtype: int64"
          },
          "metadata": {}
        }
      ]
    },
    {
      "metadata": {
        "trusted": true
      },
      "cell_type": "code",
      "source": "veh_df['LIGHTCOND'].map(lighting_dict).value_counts()",
      "execution_count": 34,
      "outputs": [
        {
          "output_type": "execute_result",
          "execution_count": 34,
          "data": {
            "text/plain": "Daylight            2470\nDark but Lighted     604\nDark                 408\nDusk                  77\nDawn                  68\nUnknown                1\nName: LIGHTCOND, dtype: int64"
          },
          "metadata": {}
        }
      ]
    },
    {
      "metadata": {
        "trusted": true
      },
      "cell_type": "code",
      "source": "veh_df['WEATHER'].map(weather_dict).value_counts()",
      "execution_count": 35,
      "outputs": [
        {
          "output_type": "execute_result",
          "execution_count": 35,
          "data": {
            "text/plain": "Clear                       2719\nCloudy                       514\nRain                         278\nSnow                          67\nFog, Smoke, Smog              21\nOther                          8\nUnknown                        8\nSleet or Hail                  5\nBlowing Sand, Dirt, Soil       4\nBlowing Snow                   2\nSevere Crosswinds              1\nFreezing Rain/Drizzle          1\nName: WEATHER, dtype: int64"
          },
          "metadata": {}
        }
      ]
    },
    {
      "metadata": {
        "trusted": true
      },
      "cell_type": "code",
      "source": "veh_df['DISTRACT'].map(basic_distract_dict).value_counts()",
      "execution_count": 36,
      "outputs": [
        {
          "output_type": "execute_result",
          "execution_count": 36,
          "data": {
            "text/plain": "Unknown                     1688\nAttentive/Not Distracted    1368\nInattentive/Distracted       394\nLooked but did not see       172\nNo Driver                      6\nName: DISTRACT, dtype: int64"
          },
          "metadata": {}
        }
      ]
    },
    {
      "metadata": {
        "trusted": true
      },
      "cell_type": "code",
      "source": "person_df['PARAIRBAG'].map(airbag_dict).value_counts()",
      "execution_count": 37,
      "outputs": [
        {
          "output_type": "execute_result",
          "execution_count": 37,
          "data": {
            "text/plain": "Deployed               1949\nNot Deployed           1674\nNot Reported            441\nNone Available          126\nUnknown                  33\nUnknown if Deployed      12\nName: PARAIRBAG, dtype: int64"
          },
          "metadata": {}
        }
      ]
    },
    {
      "metadata": {
        "trusted": true
      },
      "cell_type": "code",
      "source": "person_df['PARBELTUSE'].map(seatbelt_dict).value_counts()",
      "execution_count": 38,
      "outputs": [
        {
          "output_type": "execute_result",
          "execution_count": 38,
          "data": {
            "text/plain": "Shoulder + Lap Belt        3359\nNot Used                    208\nBelt Used, Unknown Type     196\nChild Seat                  150\nNot Reported                147\nUnknown                     143\nLap Belt                     20\nShoulder Belt                11\nOther Belt Type               1\nName: PARBELTUSE, dtype: int64"
          },
          "metadata": {}
        }
      ]
    },
    {
      "metadata": {
        "trusted": true
      },
      "cell_type": "code",
      "source": "veh_df['DV'].map(DV_dict).value_counts()",
      "execution_count": 39,
      "outputs": [
        {
          "output_type": "execute_result",
          "execution_count": 39,
          "data": {
            "text/plain": "10-25 kph          1482\n25-40 kph           613\nUnknown             563\nUnder 10 kph        375\nModerate Damage     195\nMinor Damage        164\nSevere Damage        60\n40-55 kph            20\nOver 55 kph          14\nName: DV, dtype: int64"
          },
          "metadata": {}
        }
      ]
    },
    {
      "metadata": {
        "trusted": true
      },
      "cell_type": "code",
      "source": "a = veh_df['WEATHER'].map(weather_dict).value_counts()",
      "execution_count": 40,
      "outputs": []
    },
    {
      "metadata": {
        "trusted": true
      },
      "cell_type": "code",
      "source": "a = veh_df['WEATHER'].value_counts()\n\nplt.bar(a.index, a)\n\nfor x,y in zip(a.index, a):\n\n    label = \"{:}\".format(y)\n\n    plt.annotate(label, # this is the text\n                 (x,y), # this is the point to label\n                 textcoords=\"offset points\", # how to position the text\n                 xytext=(0,1), # distance from text to points (x,y)\n                 ha='center') # horizontal alignment can be left, right or center\n\nplt.xticks(rotation=90)\nplt.ylabel('Number of Observations')\nplt.xlabel('Weather Conditions')\nplt.show()",
      "execution_count": 41,
      "outputs": [
        {
          "output_type": "display_data",
          "data": {
            "image/png": "[encoded data removed]",
            "text/plain": "<Figure size 432x288 with 1 Axes>"
          },
          "metadata": {
            "needs_background": "light"
          }
        }
      ]
    },
    {
      "metadata": {
        "trusted": true
      },
      "cell_type": "markdown",
      "source": "# Join dataframes into a modeling dataframe and do additional exploratory analysis and variable creation"
    },
    {
      "metadata": {
        "trusted": true
      },
      "cell_type": "code",
      "source": "crash_df['ID'] = crash_df['CASEID'].apply(str)\nveh_df['ID'] = veh_df['CASEID'].apply(str)\ndistract_df['ID'] = distract_df['CASEID'].apply(str)\nperson_df['ID'] = person_df['CASEID'].apply(str)",
      "execution_count": 42,
      "outputs": [
        {
          "output_type": "stream",
          "text": "/home/nbuser/anaconda3_501/lib/python3.6/site-packages/ipykernel/__main__.py:1: SettingWithCopyWarning: \nA value is trying to be set on a copy of a slice from a DataFrame.\nTry using .loc[row_indexer,col_indexer] = value instead\n\nSee the caveats in the documentation: http://pandas.pydata.org/pandas-docs/stable/indexing.html#indexing-view-versus-copy\n  if __name__ == '__main__':\n/home/nbuser/anaconda3_501/lib/python3.6/site-packages/ipykernel/__main__.py:2: SettingWithCopyWarning: \nA value is trying to be set on a copy of a slice from a DataFrame.\nTry using .loc[row_indexer,col_indexer] = value instead\n\nSee the caveats in the documentation: http://pandas.pydata.org/pandas-docs/stable/indexing.html#indexing-view-versus-copy\n  from ipykernel import kernelapp as app\n/home/nbuser/anaconda3_501/lib/python3.6/site-packages/ipykernel/__main__.py:3: SettingWithCopyWarning: \nA value is trying to be set on a copy of a slice from a DataFrame.\nTry using .loc[row_indexer,col_indexer] = value instead\n\nSee the caveats in the documentation: http://pandas.pydata.org/pandas-docs/stable/indexing.html#indexing-view-versus-copy\n  app.launch_new_instance()\n/home/nbuser/anaconda3_501/lib/python3.6/site-packages/ipykernel/__main__.py:4: SettingWithCopyWarning: \nA value is trying to be set on a copy of a slice from a DataFrame.\nTry using .loc[row_indexer,col_indexer] = value instead\n\nSee the caveats in the documentation: http://pandas.pydata.org/pandas-docs/stable/indexing.html#indexing-view-versus-copy\n",
          "name": "stderr"
        }
      ]
    },
    {
      "metadata": {
        "trusted": true
      },
      "cell_type": "code",
      "source": "df_veh = crash_df.merge(veh_df, on = ['ID'], how='outer')\ndf_veh_distract = df_veh.merge(distract_df, on = ['ID',  'VEHNO'], how='outer')\ndf = df_veh_distract.merge(person_df, on = ['ID',  'VEHNO'], how='inner')",
      "execution_count": 49,
      "outputs": []
    },
    {
      "metadata": {
        "trusted": true
      },
      "cell_type": "code",
      "source": "df_veh.groupby(['MODELYR'])['CASEWGT'].sum() # distribution of model years",
      "execution_count": 56,
      "outputs": [
        {
          "output_type": "execute_result",
          "execution_count": 56,
          "data": {
            "text/plain": "MODELYR\n1950.0       572.425840\n1954.0       115.287608\n1978.0       663.433221\n1979.0       206.708059\n1983.0       259.890593\n1984.0      1601.225482\n1985.0        96.890018\n1986.0      6924.811924\n1987.0       974.894025\n1988.0      3070.688860\n1989.0     14120.347844\n1990.0      4410.396723\n1991.0     13519.763917\n1992.0     29535.105029\n1993.0     19488.174461\n1994.0     24756.445657\n1995.0     45669.727309\n1996.0     51879.952491\n1997.0     78210.766150\n1998.0     81695.842561\n1999.0    129324.143606\n2000.0    130114.542898\n2001.0    153099.321056\n2002.0    215868.144924\n2003.0    251033.278910\n2004.0    217712.789126\n2005.0    294867.747853\n2006.0    357925.660103\n2007.0    257131.883218\n2008.0    254625.940511\n2009.0    205346.118952\n2010.0    243527.178025\n2011.0    239532.738811\n2012.0    262116.598023\n2013.0    281061.984076\n2014.0    345395.126254\n2015.0    288409.723960\n2016.0    298432.954107\n2017.0    179074.234774\n2018.0     14555.129128\n9999.0     67531.990713\nName: CASEWGT, dtype: float64"
          },
          "metadata": {}
        }
      ]
    },
    {
      "metadata": {
        "trusted": true
      },
      "cell_type": "code",
      "source": "np.sort(df_veh[df_veh['MODELYR']<2500]['MODELYR'].unique()) # not including \"9999\", which indicates model year is unknown",
      "execution_count": 64,
      "outputs": [
        {
          "output_type": "execute_result",
          "execution_count": 64,
          "data": {
            "text/plain": "array([1950., 1954., 1978., 1979., 1983., 1984., 1985., 1986., 1987.,\n       1988., 1989., 1990., 1991., 1992., 1993., 1994., 1995., 1996.,\n       1997., 1998., 1999., 2000., 2001., 2002., 2003., 2004., 2005.,\n       2006., 2007., 2008., 2009., 2010., 2011., 2012., 2013., 2014.,\n       2015., 2016., 2017., 2018.])"
          },
          "metadata": {}
        }
      ]
    },
    {
      "metadata": {
        "trusted": true
      },
      "cell_type": "code",
      "source": "modyears = np.sort(df_veh[df_veh['MODELYR']<2500]['MODELYR'].unique()) \nplt.hist(df_veh[df_veh['MODELYR']<2500]['MODELYR'], weights=df_veh[df_veh['MODELYR']<2500]['CASEWGT'], bins=modyears); # histogram of model years, using weights",
      "execution_count": 66,
      "outputs": [
        {
          "output_type": "display_data",
          "data": {
            "image/png": "[encoded data removed]",
            "text/plain": "<Figure size 432x288 with 1 Axes>"
          },
          "metadata": {
            "needs_background": "light"
          }
        }
      ]
    },
    {
      "metadata": {
        "trusted": true
      },
      "cell_type": "code",
      "source": "df_cols = ['CASENO', 'CRASHMONTH', 'DAYOFWEEK', 'CRASHTIME', 'MANCOLL', 'CASEWGT', 'ID',  'VEHNO', 'MODELYR', 'DAMPLANE', 'SPEEDLIMIT', 'PARALCOHOL', 'RELTOJUNCT', 'TRAFFLOW', 'LIGHTCOND',\n       'WEATHER', 'DISTRACT', 'DVTOTAL', 'DVEST', 'DV', 'DISTRACTN', 'OCCNO', 'MAIS', 'SEATLOC', 'AGE', 'HEIGHT', 'WEIGHT', 'SEX', 'PARBELTUSE', 'PARAIRBAG',  'BELTUSE',\n       'CHILDSEATUSE', 'TREATMENT', 'MEDFACILITY', 'HOSPSTAY', 'EMSDATA', 'BMI']\ndf = df[df_cols]",
      "execution_count": 44,
      "outputs": []
    },
    {
      "metadata": {
        "trusted": true
      },
      "cell_type": "code",
      "source": "df.groupby(['BMI'])['CASEWGT'].sum() # BMI's, by person. Note that a BMI of 100 is investigater futher below.",
      "execution_count": 48,
      "outputs": [
        {
          "output_type": "execute_result",
          "execution_count": 48,
          "data": {
            "text/plain": "BMI\n10     7.998490e+01\n11     1.398629e+04\n12     9.024072e+02\n13     9.193266e+03\n14     1.388416e+04\n15     8.575179e+03\n16     5.284178e+04\n17     4.675854e+04\n18     8.310730e+04\n19     1.132910e+05\n20     1.660932e+05\n21     1.074082e+05\n22     2.436370e+05\n23     2.264686e+05\n24     2.783367e+05\n25     2.472408e+05\n26     2.380845e+05\n27     3.009060e+05\n28     2.276732e+05\n29     1.414986e+05\n30     1.000327e+05\n31     9.478883e+04\n32     1.639299e+05\n33     9.912983e+04\n34     6.072723e+04\n35     6.539775e+04\n36     4.534379e+04\n37     4.555453e+04\n38     3.086732e+04\n39     1.185662e+04\n40     3.852962e+04\n41     2.132744e+04\n42     2.071214e+04\n43     1.965748e+04\n44     9.638661e+03\n45     4.861232e+03\n46     1.100826e+04\n47     2.145963e+03\n48     1.055998e+04\n49     9.883311e+03\n50     6.599335e+03\n51     1.003758e+03\n52     2.057706e+03\n53     1.153677e+01\n54     5.627607e+02\n55     1.849540e+03\n56     1.055715e+04\n57     5.087748e+02\n58     4.811398e+03\n59     7.333334e+02\n60     3.204684e+03\n61     4.647349e+02\n63     1.347902e+03\n67     2.086595e+03\n69     1.749486e+03\n100    1.590660e+06\nName: CASEWGT, dtype: float64"
          },
          "metadata": {}
        }
      ]
    },
    {
      "metadata": {
        "trusted": true
      },
      "cell_type": "code",
      "source": "plt.hist(df[df['BMI']<100]['BMI'], weights=df[df['BMI']<100]['CASEWGT'], bins=100); # histogram of BMI, using weights",
      "execution_count": 69,
      "outputs": [
        {
          "output_type": "display_data",
          "data": {
            "image/png": "[encoded data removed]",
            "text/plain": "<Figure size 432x288 with 1 Axes>"
          },
          "metadata": {
            "needs_background": "light"
          }
        }
      ]
    },
    {
      "metadata": {
        "trusted": true
      },
      "cell_type": "code",
      "source": "df.isnull().sum()",
      "execution_count": 46,
      "outputs": [
        {
          "output_type": "execute_result",
          "execution_count": 46,
          "data": {
            "text/plain": "CASENO             0\nCRASHMONTH         0\nDAYOFWEEK          0\nCRASHTIME          0\nMANCOLL            0\nCASEWGT            7\nID                 0\nVEHNO              0\nMODELYR            0\nDAMPLANE           0\nSPEEDLIMIT         0\nPARALCOHOL         0\nRELTOJUNCT         0\nTRAFFLOW           0\nLIGHTCOND          0\nWEATHER            0\nDISTRACT           0\nDVTOTAL         1613\nDVEST              0\nDV                 0\nDISTRACTN       3731\nOCCNO              0\nMAIS               0\nSEATLOC            0\nAGE                0\nHEIGHT             0\nWEIGHT             0\nSEX                0\nPARBELTUSE         0\nPARAIRBAG          0\nBELTUSE            0\nCHILDSEATUSE       0\nTREATMENT          0\nMEDFACILITY        0\nHOSPSTAY           0\nEMSDATA            0\nBMI                0\ndtype: int64"
          },
          "metadata": {}
        }
      ]
    },
    {
      "metadata": {
        "trusted": true
      },
      "cell_type": "code",
      "source": "df.head()",
      "execution_count": 47,
      "outputs": [
        {
          "output_type": "execute_result",
          "execution_count": 47,
          "data": {
            "text/html": "<div>\n<style scoped>\n    .dataframe tbody tr th:only-of-type {\n        vertical-align: middle;\n    }\n\n    .dataframe tbody tr th {\n        vertical-align: top;\n    }\n\n    .dataframe thead th {\n        text-align: right;\n    }\n</style>\n<table border=\"1\" class=\"dataframe\">\n  <thead>\n    <tr style=\"text-align: right;\">\n      <th></th>\n      <th>CASENO</th>\n      <th>CRASHMONTH</th>\n      <th>DAYOFWEEK</th>\n      <th>CRASHTIME</th>\n      <th>MANCOLL</th>\n      <th>CASEWGT</th>\n      <th>ID</th>\n      <th>VEHNO</th>\n      <th>MODELYR</th>\n      <th>DAMPLANE</th>\n      <th>...</th>\n      <th>SEX</th>\n      <th>PARBELTUSE</th>\n      <th>PARAIRBAG</th>\n      <th>BELTUSE</th>\n      <th>CHILDSEATUSE</th>\n      <th>TREATMENT</th>\n      <th>MEDFACILITY</th>\n      <th>HOSPSTAY</th>\n      <th>EMSDATA</th>\n      <th>BMI</th>\n    </tr>\n  </thead>\n  <tbody>\n    <tr>\n      <th>0</th>\n      <td>1</td>\n      <td>1.0</td>\n      <td>3.0</td>\n      <td>19:23</td>\n      <td>0.0</td>\n      <td>1076.863485</td>\n      <td>6150</td>\n      <td>1.0</td>\n      <td>2004.0</td>\n      <td>F</td>\n      <td>...</td>\n      <td>2</td>\n      <td>3</td>\n      <td>2</td>\n      <td>0</td>\n      <td>0</td>\n      <td>3</td>\n      <td>2</td>\n      <td>3</td>\n      <td>0</td>\n      <td>25</td>\n    </tr>\n    <tr>\n      <th>1</th>\n      <td>1</td>\n      <td>1.0</td>\n      <td>3.0</td>\n      <td>19:23</td>\n      <td>0.0</td>\n      <td>1076.863485</td>\n      <td>6150</td>\n      <td>1.0</td>\n      <td>2004.0</td>\n      <td>F</td>\n      <td>...</td>\n      <td>1</td>\n      <td>3</td>\n      <td>2</td>\n      <td>0</td>\n      <td>0</td>\n      <td>0</td>\n      <td>0</td>\n      <td>0</td>\n      <td>0</td>\n      <td>100</td>\n    </tr>\n    <tr>\n      <th>2</th>\n      <td>1</td>\n      <td>1.0</td>\n      <td>3.0</td>\n      <td>19:23</td>\n      <td>0.0</td>\n      <td>1076.863485</td>\n      <td>6150</td>\n      <td>1.0</td>\n      <td>2004.0</td>\n      <td>F</td>\n      <td>...</td>\n      <td>2</td>\n      <td>5</td>\n      <td>2</td>\n      <td>99</td>\n      <td>1</td>\n      <td>0</td>\n      <td>0</td>\n      <td>0</td>\n      <td>0</td>\n      <td>100</td>\n    </tr>\n    <tr>\n      <th>3</th>\n      <td>1</td>\n      <td>1.0</td>\n      <td>3.0</td>\n      <td>19:23</td>\n      <td>0.0</td>\n      <td>1076.863485</td>\n      <td>6150</td>\n      <td>1.0</td>\n      <td>2004.0</td>\n      <td>F</td>\n      <td>...</td>\n      <td>1</td>\n      <td>5</td>\n      <td>2</td>\n      <td>99</td>\n      <td>1</td>\n      <td>0</td>\n      <td>0</td>\n      <td>0</td>\n      <td>0</td>\n      <td>100</td>\n    </tr>\n    <tr>\n      <th>4</th>\n      <td>1</td>\n      <td>1.0</td>\n      <td>3.0</td>\n      <td>19:23</td>\n      <td>0.0</td>\n      <td>1076.863485</td>\n      <td>6150</td>\n      <td>1.0</td>\n      <td>2004.0</td>\n      <td>F</td>\n      <td>...</td>\n      <td>2</td>\n      <td>2</td>\n      <td>0</td>\n      <td>99</td>\n      <td>0</td>\n      <td>0</td>\n      <td>0</td>\n      <td>0</td>\n      <td>0</td>\n      <td>100</td>\n    </tr>\n  </tbody>\n</table>\n<p>5 rows × 37 columns</p>\n</div>",
            "text/plain": "   CASENO  CRASHMONTH  DAYOFWEEK CRASHTIME  MANCOLL      CASEWGT    ID  VEHNO  \\\n0       1         1.0        3.0     19:23      0.0  1076.863485  6150    1.0   \n1       1         1.0        3.0     19:23      0.0  1076.863485  6150    1.0   \n2       1         1.0        3.0     19:23      0.0  1076.863485  6150    1.0   \n3       1         1.0        3.0     19:23      0.0  1076.863485  6150    1.0   \n4       1         1.0        3.0     19:23      0.0  1076.863485  6150    1.0   \n\n   MODELYR DAMPLANE ...   SEX  PARBELTUSE  PARAIRBAG  BELTUSE  CHILDSEATUSE  \\\n0   2004.0        F ...     2           3          2        0             0   \n1   2004.0        F ...     1           3          2        0             0   \n2   2004.0        F ...     2           5          2       99             1   \n3   2004.0        F ...     1           5          2       99             1   \n4   2004.0        F ...     2           2          0       99             0   \n\n   TREATMENT  MEDFACILITY  HOSPSTAY  EMSDATA  BMI  \n0          3            2         3        0   25  \n1          0            0         0        0  100  \n2          0            0         0        0  100  \n3          0            0         0        0  100  \n4          0            0         0        0  100  \n\n[5 rows x 37 columns]"
          },
          "metadata": {}
        }
      ]
    },
    {
      "metadata": {
        "trusted": true
      },
      "cell_type": "code",
      "source": "check_cols = ['CRASHMONTH', 'DAYOFWEEK',  'MANCOLL', 'MODELYR', 'DAMPLANE', 'SPEEDLIMIT', 'PARALCOHOL', 'RELTOJUNCT', 'TRAFFLOW', 'LIGHTCOND',\n       'WEATHER', 'DISTRACT', 'DV', 'DISTRACTN', 'MAIS', 'SEATLOC', 'AGE',  'SEX', 'PARBELTUSE', 'PARAIRBAG', 'BELTUSE',\n       'CHILDSEATUSE', 'TREATMENT', 'MEDFACILITY', 'HOSPSTAY', 'EMSDATA']\nfor i in check_cols:\n    print(i)\n    print(np.sort(df[i].unique()))",
      "execution_count": 48,
      "outputs": [
        {
          "output_type": "stream",
          "text": "CRASHMONTH\n[ 1.  2.  3.  4.  5.  6.  7.  8.  9. 10. 11. 12.]\nDAYOFWEEK\n[1. 2. 3. 4. 5. 6. 7.]\nMANCOLL\n[0. 1. 2. 4. 5. 6. 9.]\nMODELYR\n[1950. 1954. 1978. 1983. 1984. 1985. 1986. 1987. 1988. 1989. 1990. 1991.\n 1992. 1993. 1994. 1995. 1996. 1997. 1998. 1999. 2000. 2001. 2002. 2003.\n 2004. 2005. 2006. 2007. 2008. 2009. 2010. 2011. 2012. 2013. 2014. 2015.\n 2016. 2017. 2018.]\nDAMPLANE\n['9' 'B' 'F' 'L' 'N' 'R' 'T' 'U']\nSPEEDLIMIT\n[  0.  24.  32.  40.  48.  56.  64.  72.  80.  89.  97. 105. 113. 121.\n 999.]\nPARALCOHOL\n[0. 1. 8. 9.]\nRELTOJUNCT\n[0. 1. 2. 3. 4.]\nTRAFFLOW\n[1. 2. 3. 4. 5.]\nLIGHTCOND\n[1. 2. 3. 4. 5. 9.]\nWEATHER\n[ 1.  2.  3.  4.  5.  6.  7.  8.  9. 10. 98. 99.]\nDISTRACT\n[1. 2. 3. 9.]\nDV\n[0. 1. 2. 3. 4. 5. 6. 7. 8. 9.]\nDISTRACTN\n[ 1.  2.  3.  4.  5.  6.  7.  8.  9. 10. 99. nan]\nMAIS\n[ 0  1  2  3  4  5  6  9 99]\nSEATLOC\n[11 12 13 21 22 23 31 32 33 99]\nAGE\n[  0   1   2   3   4   5   6   7   8   9  10  11  12  13  14  15  16  17\n  18  19  20  21  22  23  24  25  26  27  28  29  30  31  32  33  34  35\n  36  37  38  39  40  41  42  43  44  45  46  47  48  49  50  51  52  53\n  54  55  56  57  58  59  60  61  62  63  64  65  66  67  68  69  70  71\n  72  73  74  75  76  77  78  79  80  81  82  83  84  85  86  87  88  89\n  90  91  92  93  94  97 999]\nSEX\n[1 2 3 4 5 6 9]\nPARBELTUSE\n[0 1 2 3 4 5 7 8 9]\nPARAIRBAG\n[0 1 2 3 7 9]\nBELTUSE\n[ 0  2  3  4  5  8 13 14 15 99]\nCHILDSEATUSE\n[0 1 9]\nTREATMENT\n[0 1 2 3 4 5 6 7 8 9]\nMEDFACILITY\n[0 1 2 3 5 9]\nHOSPSTAY\n[ 0  1  2  3  4  5  6  7  8  9 10 11 12 13 14 15 16 17 18 19 21 23 25 26\n 33 34 39 99]\nEMSDATA\n[0 1]\n",
          "name": "stdout"
        }
      ]
    },
    {
      "metadata": {
        "trusted": true
      },
      "cell_type": "code",
      "source": "df = df.replace(999,np.NaN)",
      "execution_count": 49,
      "outputs": []
    },
    {
      "metadata": {
        "trusted": true
      },
      "cell_type": "code",
      "source": "df['Distracted'] = np.where(df['DISTRACT']==3,1,0) # Indicator for distraction/Inattention\ndf['Looked_no_see'] = np.where(df['DISTRACT']==2,1,0) # Indicator for distraction/Inattention\ndf['Driver'] = np.where(df['SEATLOC']==11,1,0) # Front Left Seat\ndf['FrontPax'] = np.where((df['SEATLOC']==12) | (df['SEATLOC']==13),1,0) # Front Passenger\ndf['Back_Left'] = np.where((df['SEATLOC']==21) | (df['SEATLOC']==31),1,0) # 2nd or 3rd seat left\ndf['Back_Middle'] = np.where((df['SEATLOC']==22) | (df['SEATLOC']==32),1,0) # 2nd or 3rd seat middle\ndf['Back_Right'] = np.where((df['SEATLOC']==23) | (df['SEATLOC']==33),1,0) # 2nd or 3rd seat middle",
      "execution_count": 50,
      "outputs": []
    },
    {
      "metadata": {
        "trusted": true
      },
      "cell_type": "code",
      "source": "df.isnull().sum()",
      "execution_count": 51,
      "outputs": [
        {
          "output_type": "execute_result",
          "execution_count": 51,
          "data": {
            "text/plain": "CASENO              0\nCRASHMONTH          0\nDAYOFWEEK           0\nCRASHTIME           0\nMANCOLL             0\nCASEWGT             7\nID                  0\nVEHNO               0\nMODELYR             0\nDAMPLANE            0\nSPEEDLIMIT         52\nPARALCOHOL          0\nRELTOJUNCT          0\nTRAFFLOW            0\nLIGHTCOND           0\nWEATHER             0\nDISTRACT            0\nDVTOTAL          1613\nDVEST               0\nDV                  0\nDISTRACTN        3731\nOCCNO               0\nMAIS                0\nSEATLOC             0\nAGE                56\nHEIGHT           1073\nWEIGHT           1060\nSEX                 0\nPARBELTUSE          0\nPARAIRBAG           0\nBELTUSE             0\nCHILDSEATUSE        0\nTREATMENT           0\nMEDFACILITY         0\nHOSPSTAY            0\nEMSDATA             0\nBMI                 0\nDistracted          0\nLooked_no_see       0\nDriver              0\nFrontPax            0\nBack_Left           0\nBack_Middle         0\nBack_Right          0\ndtype: int64"
          },
          "metadata": {}
        }
      ]
    },
    {
      "metadata": {
        "trusted": true
      },
      "cell_type": "code",
      "source": "df = df[df['AGE']<100] # drop 56 observations with occupant age = 999, which indicates missing data\ndf.isnull().sum()",
      "execution_count": 52,
      "outputs": [
        {
          "output_type": "execute_result",
          "execution_count": 52,
          "data": {
            "text/plain": "CASENO              0\nCRASHMONTH          0\nDAYOFWEEK           0\nCRASHTIME           0\nMANCOLL             0\nCASEWGT             7\nID                  0\nVEHNO               0\nMODELYR             0\nDAMPLANE            0\nSPEEDLIMIT         52\nPARALCOHOL          0\nRELTOJUNCT          0\nTRAFFLOW            0\nLIGHTCOND           0\nWEATHER             0\nDISTRACT            0\nDVTOTAL          1584\nDVEST               0\nDV                  0\nDISTRACTN        3677\nOCCNO               0\nMAIS                0\nSEATLOC             0\nAGE                 0\nHEIGHT           1019\nWEIGHT           1006\nSEX                 0\nPARBELTUSE          0\nPARAIRBAG           0\nBELTUSE             0\nCHILDSEATUSE        0\nTREATMENT           0\nMEDFACILITY         0\nHOSPSTAY            0\nEMSDATA             0\nBMI                 0\nDistracted          0\nLooked_no_see       0\nDriver              0\nFrontPax            0\nBack_Left           0\nBack_Middle         0\nBack_Right          0\ndtype: int64"
          },
          "metadata": {}
        }
      ]
    },
    {
      "metadata": {
        "trusted": true
      },
      "cell_type": "code",
      "source": "df = df[(df['CASEWGT']>0) & (df['SPEEDLIMIT']>0)] # drop observationns with missing data for speed limit or missing sample weights (i.e., CASEWGT)\ndf.isnull().sum()",
      "execution_count": 53,
      "outputs": [
        {
          "output_type": "execute_result",
          "execution_count": 53,
          "data": {
            "text/plain": "CASENO              0\nCRASHMONTH          0\nDAYOFWEEK           0\nCRASHTIME           0\nMANCOLL             0\nCASEWGT             0\nID                  0\nVEHNO               0\nMODELYR             0\nDAMPLANE            0\nSPEEDLIMIT          0\nPARALCOHOL          0\nRELTOJUNCT          0\nTRAFFLOW            0\nLIGHTCOND           0\nWEATHER             0\nDISTRACT            0\nDVTOTAL          1542\nDVEST               0\nDV                  0\nDISTRACTN        3598\nOCCNO               0\nMAIS                0\nSEATLOC             0\nAGE                 0\nHEIGHT            991\nWEIGHT            978\nSEX                 0\nPARBELTUSE          0\nPARAIRBAG           0\nBELTUSE             0\nCHILDSEATUSE        0\nTREATMENT           0\nMEDFACILITY         0\nHOSPSTAY            0\nEMSDATA             0\nBMI                 0\nDistracted          0\nLooked_no_see       0\nDriver              0\nFrontPax            0\nBack_Left           0\nBack_Middle         0\nBack_Right          0\ndtype: int64"
          },
          "metadata": {}
        }
      ]
    },
    {
      "metadata": {},
      "cell_type": "markdown",
      "source": "It is interesting to note that Height and Weight have multiple missing values, but BMI does not. Investigating further..."
    },
    {
      "metadata": {
        "trusted": true
      },
      "cell_type": "code",
      "source": "np.sort(df['BMI'].unique())",
      "execution_count": 54,
      "outputs": [
        {
          "output_type": "execute_result",
          "execution_count": 54,
          "data": {
            "text/plain": "array([ 10,  11,  12,  13,  14,  15,  16,  17,  18,  19,  20,  21,  22,\n        23,  24,  25,  26,  27,  28,  29,  30,  31,  32,  33,  34,  35,\n        36,  37,  38,  39,  40,  41,  42,  43,  44,  45,  46,  47,  48,\n        49,  50,  51,  52,  53,  54,  55,  56,  57,  58,  59,  60,  61,\n        63,  67,  69, 100])"
          },
          "metadata": {}
        }
      ]
    },
    {
      "metadata": {
        "trusted": true
      },
      "cell_type": "code",
      "source": "df['BMI'].value_counts()",
      "execution_count": 55,
      "outputs": [
        {
          "output_type": "execute_result",
          "execution_count": 55,
          "data": {
            "text/plain": "100    1020\n24      236\n26      231\n27      231\n25      224\n22      218\n28      196\n23      179\n29      153\n20      139\n21      130\n30      129\n32      107\n31      100\n33       86\n18       84\n19       81\n34       71\n35       69\n17       48\n36       41\n37       32\n39       29\n38       28\n40       27\n16       27\n41       26\n42       24\n15       16\n43       15\n14       15\n46       12\n44        9\n13        8\n45        8\n48        7\n49        5\n11        4\n50        3\n54        3\n12        3\n57        2\n58        2\n60        2\n51        2\n61        2\n63        2\n56        2\n69        1\n52        1\n67        1\n47        1\n53        1\n55        1\n59        1\n10        1\nName: BMI, dtype: int64"
          },
          "metadata": {}
        }
      ]
    },
    {
      "metadata": {
        "trusted": true
      },
      "cell_type": "code",
      "source": "pd.crosstab(np.where(df['BMI']==100,1,0),df['WEIGHT'].isnull())",
      "execution_count": 56,
      "outputs": [
        {
          "output_type": "execute_result",
          "execution_count": 56,
          "data": {
            "text/html": "<div>\n<style scoped>\n    .dataframe tbody tr th:only-of-type {\n        vertical-align: middle;\n    }\n\n    .dataframe tbody tr th {\n        vertical-align: top;\n    }\n\n    .dataframe thead th {\n        text-align: right;\n    }\n</style>\n<table border=\"1\" class=\"dataframe\">\n  <thead>\n    <tr style=\"text-align: right;\">\n      <th>WEIGHT</th>\n      <th>False</th>\n      <th>True</th>\n    </tr>\n    <tr>\n      <th>row_0</th>\n      <th></th>\n      <th></th>\n    </tr>\n  </thead>\n  <tbody>\n    <tr>\n      <th>0</th>\n      <td>3076</td>\n      <td>0</td>\n    </tr>\n    <tr>\n      <th>1</th>\n      <td>42</td>\n      <td>978</td>\n    </tr>\n  </tbody>\n</table>\n</div>",
            "text/plain": "WEIGHT  False  True \nrow_0               \n0        3076      0\n1          42    978"
          },
          "metadata": {}
        }
      ]
    },
    {
      "metadata": {
        "trusted": true
      },
      "cell_type": "code",
      "source": "pd.crosstab(np.where(df['BMI']==100,1,0),df['HEIGHT'].isnull())",
      "execution_count": 57,
      "outputs": [
        {
          "output_type": "execute_result",
          "execution_count": 57,
          "data": {
            "text/html": "<div>\n<style scoped>\n    .dataframe tbody tr th:only-of-type {\n        vertical-align: middle;\n    }\n\n    .dataframe tbody tr th {\n        vertical-align: top;\n    }\n\n    .dataframe thead th {\n        text-align: right;\n    }\n</style>\n<table border=\"1\" class=\"dataframe\">\n  <thead>\n    <tr style=\"text-align: right;\">\n      <th>HEIGHT</th>\n      <th>False</th>\n      <th>True</th>\n    </tr>\n    <tr>\n      <th>row_0</th>\n      <th></th>\n      <th></th>\n    </tr>\n  </thead>\n  <tbody>\n    <tr>\n      <th>0</th>\n      <td>3076</td>\n      <td>0</td>\n    </tr>\n    <tr>\n      <th>1</th>\n      <td>29</td>\n      <td>991</td>\n    </tr>\n  </tbody>\n</table>\n</div>",
            "text/plain": "HEIGHT  False  True \nrow_0               \n0        3076      0\n1          29    991"
          },
          "metadata": {}
        }
      ]
    },
    {
      "metadata": {
        "trusted": true
      },
      "cell_type": "code",
      "source": "HW_Missing = np.where((df['HEIGHT'].isnull()) | (df['WEIGHT'].isnull()),1,0) # Height and/or weight missing\n\npd.crosstab(np.where(df['BMI']==100,1,0),HW_Missing)",
      "execution_count": 58,
      "outputs": [
        {
          "output_type": "execute_result",
          "execution_count": 58,
          "data": {
            "text/html": "<div>\n<style scoped>\n    .dataframe tbody tr th:only-of-type {\n        vertical-align: middle;\n    }\n\n    .dataframe tbody tr th {\n        vertical-align: top;\n    }\n\n    .dataframe thead th {\n        text-align: right;\n    }\n</style>\n<table border=\"1\" class=\"dataframe\">\n  <thead>\n    <tr style=\"text-align: right;\">\n      <th>col_0</th>\n      <th>0</th>\n      <th>1</th>\n    </tr>\n    <tr>\n      <th>row_0</th>\n      <th></th>\n      <th></th>\n    </tr>\n  </thead>\n  <tbody>\n    <tr>\n      <th>0</th>\n      <td>3076</td>\n      <td>0</td>\n    </tr>\n    <tr>\n      <th>1</th>\n      <td>0</td>\n      <td>1020</td>\n    </tr>\n  </tbody>\n</table>\n</div>",
            "text/plain": "col_0     0     1\nrow_0            \n0      3076     0\n1         0  1020"
          },
          "metadata": {}
        }
      ]
    },
    {
      "metadata": {},
      "cell_type": "markdown",
      "source": "It appears that when height and/or weight is missing, BMI has artificially been set equal to 100. This could be problematic if BMI is used in the model due to the large number of \"missing\" values."
    },
    {
      "metadata": {},
      "cell_type": "markdown",
      "source": "Distraction and looked-but-failed-to-see are two basic types of human errors that may contribute to collision dynamics, leading to different injury severities. <br>\nFront seat location, and second or third row seat, along with left, right or middle, determines how the occupant is exposed to various types of impacts as well as how the vehicle can protect the occupant"
    },
    {
      "metadata": {
        "trusted": true
      },
      "cell_type": "code",
      "source": "df['DeltaV'] = df['DV'].map(DV_dict)\ndf['Airbag_Deploy'] = df['PARAIRBAG'].map(airbag_dict)\ndf['Male'] = np.where(df.SEX==1,1,0)\ndf['No_Seatbelt'] = np.where(df['PARBELTUSE']==0,1,0)\ndf['Poor_Weather'] = np.where((df['WEATHER']!=1) & (df['WEATHER']!=2) & (df['WEATHER']!=8) & (df['WEATHER']!=98) & (df['WEATHER']!=99),1,0) # Rain, Snow, Severe Crosswinds, Fog, etc.\ndf['Alcohol'] = np.where(df['PARALCOHOL']==1,1,0)\ndf['DV1025'] = np.where(df['DV']==2,1,0) # Delta-V 15-25 kph\ndf['DV2540'] = np.where(df['DV']==3,1,0) # Delta-V 25-40 kph\ndf['DV4055'] = np.where(df['DV']==4,1,0) # Delta-V 40-55 kph\ndf['DV55Pl'] = np.where(df['DV']==5,1,0) # Delta-V > 55 kph\ndf['DV_Minor'] = np.where(df['DV']==6,1,0) # Delta-V = Minor Damage\ndf['DV_Moder'] = np.where(df['DV']==7,1,0) # Delta-V = Moderate Damage\ndf['DV_Severe'] = np.where(df['DV']==8,1,0) # Delta-V = Severe Damage\ndf['Front'] = np.where(df['DAMPLANE']=='F',1,0) # Frontal Impact\ndf['Left'] = np.where(df['DAMPLANE']=='L',1,0) # Left-Side Impact\ndf['Right'] = np.where(df['DAMPLANE']=='R',1,0) # Left-Side Impact\ndf['Junction_related'] = np.where(df['RELTOJUNCT']==0,0,1) # if related to some kind of junction or not",
      "execution_count": 59,
      "outputs": []
    },
    {
      "metadata": {
        "trusted": true
      },
      "cell_type": "code",
      "source": "df.to_csv('CISS_Merged_Cleaned.csv') # Save dataset to main folder for project",
      "execution_count": 60,
      "outputs": []
    },
    {
      "metadata": {},
      "cell_type": "markdown",
      "source": "# Notes:\n\n1. Height, Weight, and BMI have a large number of  missing values. When BMI should be missing, it was artificially set equal to a value of 100 (this is not noted in the data documentation)\n2. A small portion of observations were dropped due to missing values (i.e., Age, Case Weights, and Speed Limit). Data for these observations is not likely missing at random. There is likely systematic differences between these observations and other observations in the dataset.\n3. Many of the variables have values with too few observations for stable models, if dummy variables for all but one option were included. "
    },
    {
      "metadata": {
        "trusted": true
      },
      "cell_type": "code",
      "source": "",
      "execution_count": null,
      "outputs": []
    }
  ],
  "metadata": {
    "kernelspec": {
      "name": "python36",
      "display_name": "Python 3.6",
      "language": "python"
    },
    "toc": {
      "nav_menu": {},
      "number_sections": true,
      "sideBar": true,
      "skip_h1_title": false,
      "base_numbering": 1,
      "title_cell": "Table of Contents",
      "title_sidebar": "Contents",
      "toc_cell": false,
      "toc_position": {},
      "toc_section_display": true,
      "toc_window_display": false
    },
    "language_info": {
      "mimetype": "text/x-python",
      "nbconvert_exporter": "python",
      "name": "python",
      "pygments_lexer": "ipython3",
      "version": "3.6.6",
      "file_extension": ".py",
      "codemirror_mode": {
        "version": 3,
        "name": "ipython"
      }
    }
  },
  "nbformat": 4,
  "nbformat_minor": 2
}